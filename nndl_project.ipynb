{
  "cells": [
    {
      "cell_type": "code",
      "execution_count": 1,
      "metadata": {
        "id": "S4gyasTLrniL"
      },
      "outputs": [],
      "source": [
        "from google.colab import drive\n",
        "import pandas as pd\n",
        "import numpy as np\n",
        "import cv2\n",
        "from IPython.display import Image\n",
        "import os\n",
        "from sklearn.model_selection import train_test_split\n",
        "import torch\n",
        "from torch.utils.data import Dataset, DataLoader\n",
        "import torch.nn.functional as F\n",
        "from sklearn.model_selection import train_test_split\n",
        "import keras\n",
        "from keras.models import Model\n",
        "from keras.optimizers import RMSprop\n",
        "from keras.layers import Input,Dense,Flatten,Dropout,Reshape,Conv2D,MaxPooling2D,UpSampling2D,Conv2DTranspose\n",
        "from keras.layers import BatchNormalization\n",
        "from keras.models import Model,Sequential\n",
        "from keras.callbacks import ModelCheckpoint\n",
        "from keras.optimizers import Adadelta, RMSprop,SGD,Adam\n",
        "from keras import regularizers\n",
        "from keras import backend as K\n",
        "from keras.utils import to_categorical"
      ]
    },
    {
      "cell_type": "code",
      "execution_count": 2,
      "metadata": {
        "colab": {
          "base_uri": "https://localhost:8080/"
        },
        "id": "vUvTyz9FuAxz",
        "outputId": "c74763dc-2bb6-40ac-fc33-473955d09ee2"
      },
      "outputs": [
        {
          "output_type": "stream",
          "name": "stdout",
          "text": [
            "Mounted at /content/drive\n"
          ]
        }
      ],
      "source": [
        "# Mount Google Drive\n",
        "drive.mount('/content/drive')"
      ]
    },
    {
      "cell_type": "code",
      "execution_count": 3,
      "metadata": {
        "colab": {
          "base_uri": "https://localhost:8080/",
          "height": 204
        },
        "id": "7zyq53Eiryd-",
        "outputId": "f98ac535-6b3b-4824-8fb3-94b0c1b1d6d5"
      },
      "outputs": [
        {
          "output_type": "execute_result",
          "data": {
            "text/plain": [
              "   index                                           class\n",
              "0      0       Scotch terrier, Scottish terrier, Scottie\n",
              "1      1         African chameleon, Chamaeleo chamaeleon\n",
              "2      2                              standard schnauzer\n",
              "3      3                                        terrapin\n",
              "4      4  great grey owl, great gray owl, Strix nebulosa"
            ],
            "text/html": [
              "\n",
              "  <div id=\"df-8f14086c-3472-45b4-a8ee-3a4df29f509f\" class=\"colab-df-container\">\n",
              "    <div>\n",
              "<style scoped>\n",
              "    .dataframe tbody tr th:only-of-type {\n",
              "        vertical-align: middle;\n",
              "    }\n",
              "\n",
              "    .dataframe tbody tr th {\n",
              "        vertical-align: top;\n",
              "    }\n",
              "\n",
              "    .dataframe thead th {\n",
              "        text-align: right;\n",
              "    }\n",
              "</style>\n",
              "<table border=\"1\" class=\"dataframe\">\n",
              "  <thead>\n",
              "    <tr style=\"text-align: right;\">\n",
              "      <th></th>\n",
              "      <th>index</th>\n",
              "      <th>class</th>\n",
              "    </tr>\n",
              "  </thead>\n",
              "  <tbody>\n",
              "    <tr>\n",
              "      <th>0</th>\n",
              "      <td>0</td>\n",
              "      <td>Scotch terrier, Scottish terrier, Scottie</td>\n",
              "    </tr>\n",
              "    <tr>\n",
              "      <th>1</th>\n",
              "      <td>1</td>\n",
              "      <td>African chameleon, Chamaeleo chamaeleon</td>\n",
              "    </tr>\n",
              "    <tr>\n",
              "      <th>2</th>\n",
              "      <td>2</td>\n",
              "      <td>standard schnauzer</td>\n",
              "    </tr>\n",
              "    <tr>\n",
              "      <th>3</th>\n",
              "      <td>3</td>\n",
              "      <td>terrapin</td>\n",
              "    </tr>\n",
              "    <tr>\n",
              "      <th>4</th>\n",
              "      <td>4</td>\n",
              "      <td>great grey owl, great gray owl, Strix nebulosa</td>\n",
              "    </tr>\n",
              "  </tbody>\n",
              "</table>\n",
              "</div>\n",
              "    <div class=\"colab-df-buttons\">\n",
              "\n",
              "  <div class=\"colab-df-container\">\n",
              "    <button class=\"colab-df-convert\" onclick=\"convertToInteractive('df-8f14086c-3472-45b4-a8ee-3a4df29f509f')\"\n",
              "            title=\"Convert this dataframe to an interactive table.\"\n",
              "            style=\"display:none;\">\n",
              "\n",
              "  <svg xmlns=\"http://www.w3.org/2000/svg\" height=\"24px\" viewBox=\"0 -960 960 960\">\n",
              "    <path d=\"M120-120v-720h720v720H120Zm60-500h600v-160H180v160Zm220 220h160v-160H400v160Zm0 220h160v-160H400v160ZM180-400h160v-160H180v160Zm440 0h160v-160H620v160ZM180-180h160v-160H180v160Zm440 0h160v-160H620v160Z\"/>\n",
              "  </svg>\n",
              "    </button>\n",
              "\n",
              "  <style>\n",
              "    .colab-df-container {\n",
              "      display:flex;\n",
              "      gap: 12px;\n",
              "    }\n",
              "\n",
              "    .colab-df-convert {\n",
              "      background-color: #E8F0FE;\n",
              "      border: none;\n",
              "      border-radius: 50%;\n",
              "      cursor: pointer;\n",
              "      display: none;\n",
              "      fill: #1967D2;\n",
              "      height: 32px;\n",
              "      padding: 0 0 0 0;\n",
              "      width: 32px;\n",
              "    }\n",
              "\n",
              "    .colab-df-convert:hover {\n",
              "      background-color: #E2EBFA;\n",
              "      box-shadow: 0px 1px 2px rgba(60, 64, 67, 0.3), 0px 1px 3px 1px rgba(60, 64, 67, 0.15);\n",
              "      fill: #174EA6;\n",
              "    }\n",
              "\n",
              "    .colab-df-buttons div {\n",
              "      margin-bottom: 4px;\n",
              "    }\n",
              "\n",
              "    [theme=dark] .colab-df-convert {\n",
              "      background-color: #3B4455;\n",
              "      fill: #D2E3FC;\n",
              "    }\n",
              "\n",
              "    [theme=dark] .colab-df-convert:hover {\n",
              "      background-color: #434B5C;\n",
              "      box-shadow: 0px 1px 3px 1px rgba(0, 0, 0, 0.15);\n",
              "      filter: drop-shadow(0px 1px 2px rgba(0, 0, 0, 0.3));\n",
              "      fill: #FFFFFF;\n",
              "    }\n",
              "  </style>\n",
              "\n",
              "    <script>\n",
              "      const buttonEl =\n",
              "        document.querySelector('#df-8f14086c-3472-45b4-a8ee-3a4df29f509f button.colab-df-convert');\n",
              "      buttonEl.style.display =\n",
              "        google.colab.kernel.accessAllowed ? 'block' : 'none';\n",
              "\n",
              "      async function convertToInteractive(key) {\n",
              "        const element = document.querySelector('#df-8f14086c-3472-45b4-a8ee-3a4df29f509f');\n",
              "        const dataTable =\n",
              "          await google.colab.kernel.invokeFunction('convertToInteractive',\n",
              "                                                    [key], {});\n",
              "        if (!dataTable) return;\n",
              "\n",
              "        const docLinkHtml = 'Like what you see? Visit the ' +\n",
              "          '<a target=\"_blank\" href=https://colab.research.google.com/notebooks/data_table.ipynb>data table notebook</a>'\n",
              "          + ' to learn more about interactive tables.';\n",
              "        element.innerHTML = '';\n",
              "        dataTable['output_type'] = 'display_data';\n",
              "        await google.colab.output.renderOutput(dataTable, element);\n",
              "        const docLink = document.createElement('div');\n",
              "        docLink.innerHTML = docLinkHtml;\n",
              "        element.appendChild(docLink);\n",
              "      }\n",
              "    </script>\n",
              "  </div>\n",
              "\n",
              "\n",
              "<div id=\"df-0c34f2b2-ba61-4404-ae42-d95213ab7e27\">\n",
              "  <button class=\"colab-df-quickchart\" onclick=\"quickchart('df-0c34f2b2-ba61-4404-ae42-d95213ab7e27')\"\n",
              "            title=\"Suggest charts\"\n",
              "            style=\"display:none;\">\n",
              "\n",
              "<svg xmlns=\"http://www.w3.org/2000/svg\" height=\"24px\"viewBox=\"0 0 24 24\"\n",
              "     width=\"24px\">\n",
              "    <g>\n",
              "        <path d=\"M19 3H5c-1.1 0-2 .9-2 2v14c0 1.1.9 2 2 2h14c1.1 0 2-.9 2-2V5c0-1.1-.9-2-2-2zM9 17H7v-7h2v7zm4 0h-2V7h2v10zm4 0h-2v-4h2v4z\"/>\n",
              "    </g>\n",
              "</svg>\n",
              "  </button>\n",
              "\n",
              "<style>\n",
              "  .colab-df-quickchart {\n",
              "      --bg-color: #E8F0FE;\n",
              "      --fill-color: #1967D2;\n",
              "      --hover-bg-color: #E2EBFA;\n",
              "      --hover-fill-color: #174EA6;\n",
              "      --disabled-fill-color: #AAA;\n",
              "      --disabled-bg-color: #DDD;\n",
              "  }\n",
              "\n",
              "  [theme=dark] .colab-df-quickchart {\n",
              "      --bg-color: #3B4455;\n",
              "      --fill-color: #D2E3FC;\n",
              "      --hover-bg-color: #434B5C;\n",
              "      --hover-fill-color: #FFFFFF;\n",
              "      --disabled-bg-color: #3B4455;\n",
              "      --disabled-fill-color: #666;\n",
              "  }\n",
              "\n",
              "  .colab-df-quickchart {\n",
              "    background-color: var(--bg-color);\n",
              "    border: none;\n",
              "    border-radius: 50%;\n",
              "    cursor: pointer;\n",
              "    display: none;\n",
              "    fill: var(--fill-color);\n",
              "    height: 32px;\n",
              "    padding: 0;\n",
              "    width: 32px;\n",
              "  }\n",
              "\n",
              "  .colab-df-quickchart:hover {\n",
              "    background-color: var(--hover-bg-color);\n",
              "    box-shadow: 0 1px 2px rgba(60, 64, 67, 0.3), 0 1px 3px 1px rgba(60, 64, 67, 0.15);\n",
              "    fill: var(--button-hover-fill-color);\n",
              "  }\n",
              "\n",
              "  .colab-df-quickchart-complete:disabled,\n",
              "  .colab-df-quickchart-complete:disabled:hover {\n",
              "    background-color: var(--disabled-bg-color);\n",
              "    fill: var(--disabled-fill-color);\n",
              "    box-shadow: none;\n",
              "  }\n",
              "\n",
              "  .colab-df-spinner {\n",
              "    border: 2px solid var(--fill-color);\n",
              "    border-color: transparent;\n",
              "    border-bottom-color: var(--fill-color);\n",
              "    animation:\n",
              "      spin 1s steps(1) infinite;\n",
              "  }\n",
              "\n",
              "  @keyframes spin {\n",
              "    0% {\n",
              "      border-color: transparent;\n",
              "      border-bottom-color: var(--fill-color);\n",
              "      border-left-color: var(--fill-color);\n",
              "    }\n",
              "    20% {\n",
              "      border-color: transparent;\n",
              "      border-left-color: var(--fill-color);\n",
              "      border-top-color: var(--fill-color);\n",
              "    }\n",
              "    30% {\n",
              "      border-color: transparent;\n",
              "      border-left-color: var(--fill-color);\n",
              "      border-top-color: var(--fill-color);\n",
              "      border-right-color: var(--fill-color);\n",
              "    }\n",
              "    40% {\n",
              "      border-color: transparent;\n",
              "      border-right-color: var(--fill-color);\n",
              "      border-top-color: var(--fill-color);\n",
              "    }\n",
              "    60% {\n",
              "      border-color: transparent;\n",
              "      border-right-color: var(--fill-color);\n",
              "    }\n",
              "    80% {\n",
              "      border-color: transparent;\n",
              "      border-right-color: var(--fill-color);\n",
              "      border-bottom-color: var(--fill-color);\n",
              "    }\n",
              "    90% {\n",
              "      border-color: transparent;\n",
              "      border-bottom-color: var(--fill-color);\n",
              "    }\n",
              "  }\n",
              "</style>\n",
              "\n",
              "  <script>\n",
              "    async function quickchart(key) {\n",
              "      const quickchartButtonEl =\n",
              "        document.querySelector('#' + key + ' button');\n",
              "      quickchartButtonEl.disabled = true;  // To prevent multiple clicks.\n",
              "      quickchartButtonEl.classList.add('colab-df-spinner');\n",
              "      try {\n",
              "        const charts = await google.colab.kernel.invokeFunction(\n",
              "            'suggestCharts', [key], {});\n",
              "      } catch (error) {\n",
              "        console.error('Error during call to suggestCharts:', error);\n",
              "      }\n",
              "      quickchartButtonEl.classList.remove('colab-df-spinner');\n",
              "      quickchartButtonEl.classList.add('colab-df-quickchart-complete');\n",
              "    }\n",
              "    (() => {\n",
              "      let quickchartButtonEl =\n",
              "        document.querySelector('#df-0c34f2b2-ba61-4404-ae42-d95213ab7e27 button');\n",
              "      quickchartButtonEl.style.display =\n",
              "        google.colab.kernel.accessAllowed ? 'block' : 'none';\n",
              "    })();\n",
              "  </script>\n",
              "</div>\n",
              "    </div>\n",
              "  </div>\n"
            ]
          },
          "metadata": {},
          "execution_count": 3
        }
      ],
      "source": [
        "file_path = '/content/drive/MyDrive/Released_Data/'\n",
        "sub_class = 'sub_classes_mapping.csv'\n",
        "super_class = 'super_classes_mapping.csv'\n",
        "train_data = 'train_data.csv'\n",
        "\n",
        "# Now you can read or manipulate the file\n",
        "df_subclass = pd.read_csv(file_path+sub_class)\n",
        "df_superclass = pd.read_csv(file_path+super_class)\n",
        "df_train = pd.read_csv(file_path+train_data)\n",
        "\n",
        "# Example: Print the content\n",
        "df_subclass.head()"
      ]
    },
    {
      "cell_type": "code",
      "execution_count": 10,
      "metadata": {
        "id": "Ym_TFC7-va5C"
      },
      "outputs": [],
      "source": [
        "# # Specify the path to the zip file in your Google Drive\n",
        "# zip_file_path = '/content/drive/MyDrive/Released_Data/train_shuffle.zip'\n",
        "\n",
        "# # Specify the destination folder for the extracted files\n",
        "# extracted_folder_path = '/content/drive/MyDrive/'\n",
        "\n",
        "# # Unzip the file\n",
        "# !unzip \"$zip_file_path\" -d \"$extracted_folder_path\""
      ]
    },
    {
      "cell_type": "code",
      "execution_count": 4,
      "metadata": {
        "id": "G7iM_IyMxnXC"
      },
      "outputs": [],
      "source": [
        "test_path = '/content/drive/MyDrive/test_shuffle/'\n",
        "train_path = '/content/drive/MyDrive/train_shuffle/'"
      ]
    },
    {
      "cell_type": "code",
      "execution_count": null,
      "metadata": {
        "colab": {
          "base_uri": "https://localhost:8080/",
          "height": 344
        },
        "id": "A1oAE8C7y92-",
        "outputId": "6030a971-470c-4498-8553-25d21304661c"
      },
      "outputs": [
        {
          "output_type": "error",
          "ename": "KeyboardInterrupt",
          "evalue": "ignored",
          "traceback": [
            "\u001b[0;31m---------------------------------------------------------------------------\u001b[0m",
            "\u001b[0;31mKeyboardInterrupt\u001b[0m                         Traceback (most recent call last)",
            "\u001b[0;32m<ipython-input-5-8beaecdeb02b>\u001b[0m in \u001b[0;36m<cell line: 33>\u001b[0;34m()\u001b[0m\n\u001b[1;32m     31\u001b[0m \u001b[0;34m\u001b[0m\u001b[0m\n\u001b[1;32m     32\u001b[0m \u001b[0;34m\u001b[0m\u001b[0m\n\u001b[0;32m---> 33\u001b[0;31m \u001b[0mnew_df\u001b[0m \u001b[0;34m=\u001b[0m \u001b[0mcreate_train_df\u001b[0m\u001b[0;34m(\u001b[0m\u001b[0mtrain_path\u001b[0m\u001b[0;34m,\u001b[0m \u001b[0mdf_train\u001b[0m\u001b[0;34m)\u001b[0m\u001b[0;34m\u001b[0m\u001b[0;34m\u001b[0m\u001b[0m\n\u001b[0m\u001b[1;32m     34\u001b[0m \u001b[0mnew_df\u001b[0m\u001b[0;34m.\u001b[0m\u001b[0mhead\u001b[0m\u001b[0;34m(\u001b[0m\u001b[0;34m)\u001b[0m\u001b[0;34m\u001b[0m\u001b[0;34m\u001b[0m\u001b[0m\n",
            "\u001b[0;32m<ipython-input-5-8beaecdeb02b>\u001b[0m in \u001b[0;36mcreate_train_df\u001b[0;34m(train_path, df_train)\u001b[0m\n\u001b[1;32m     10\u001b[0m \u001b[0;34m\u001b[0m\u001b[0m\n\u001b[1;32m     11\u001b[0m       \u001b[0;31m# read image\u001b[0m\u001b[0;34m\u001b[0m\u001b[0;34m\u001b[0m\u001b[0m\n\u001b[0;32m---> 12\u001b[0;31m       \u001b[0mimage\u001b[0m \u001b[0;34m=\u001b[0m \u001b[0mcv2\u001b[0m\u001b[0;34m.\u001b[0m\u001b[0mimread\u001b[0m\u001b[0;34m(\u001b[0m\u001b[0mimage_path\u001b[0m\u001b[0;34m)\u001b[0m\u001b[0;34m\u001b[0m\u001b[0;34m\u001b[0m\u001b[0m\n\u001b[0m\u001b[1;32m     13\u001b[0m \u001b[0;34m\u001b[0m\u001b[0m\n\u001b[1;32m     14\u001b[0m       \u001b[0;31m# Normalize the image (example: scale pixel values to [0, 1])\u001b[0m\u001b[0;34m\u001b[0m\u001b[0;34m\u001b[0m\u001b[0m\n",
            "\u001b[0;31mKeyboardInterrupt\u001b[0m: "
          ]
        }
      ],
      "source": [
        "def create_train_df(train_path, df_train):\n",
        "  column_names = ['image', 'image_val', 'sub_classes', 'super_class']\n",
        "  file_names = []\n",
        "  images = []\n",
        "  subclass = []\n",
        "  superclass = []\n",
        "  for train in df_train['image']:\n",
        "    image_path = os.path.join(train_path, train)\n",
        "    if os.path.exists(image_path):\n",
        "\n",
        "      # read image\n",
        "      image = cv2.imread(image_path)\n",
        "\n",
        "      # Normalize the image (example: scale pixel values to [0, 1])\n",
        "      normalized_image = image / 255.0\n",
        "\n",
        "      # Extract the numeric part from the filename\n",
        "      val_sub = df_train.loc[df_train['image'] == train, 'subclass_index'].values[0]\n",
        "      val_sup = df_train.loc[df_train['image'] == train, 'superclass_index'].values[0]\n",
        "\n",
        "      sub = df_subclass.loc[val_sub]['class']\n",
        "      sup = df_superclass.loc[val_sup]['class']\n",
        "\n",
        "      subclass.append(sub)\n",
        "      superclass.append(sup)\n",
        "      file_names.append(train)\n",
        "      images.append(normalized_image)\n",
        "\n",
        "  return pd.DataFrame(list(zip(file_names, images, subclass, superclass)), columns=column_names)\n",
        "\n",
        "\n",
        "\n",
        "new_df = create_train_df(train_path, df_train)\n",
        "new_df.head()"
      ]
    },
    {
      "cell_type": "code",
      "source": [
        "# Function to convert a string representation of a matrix to a NumPy array\n",
        "def convert_to_array(matrix_string):\n",
        "    return np.array(matrix_string)\n",
        "\n",
        "# Apply the conversion function to the entire column\n",
        "new_df['image_val2'] = new_df['image_val'].apply(convert_to_array)"
      ],
      "metadata": {
        "id": "zrzlsm7TxNR0"
      },
      "execution_count": null,
      "outputs": []
    },
    {
      "cell_type": "code",
      "source": [
        "# Specify the file path within your Google Drive\n",
        "csv_file_path = '/content/drive/MyDrive/data.csv'\n",
        "\n",
        "# Write DataFrame to CSV file\n",
        "new_df.to_csv(csv_file_path, index=False)"
      ],
      "metadata": {
        "colab": {
          "base_uri": "https://localhost:8080/",
          "height": 208
        },
        "id": "6GW9z0UmqM7G",
        "outputId": "e37957f7-4555-4992-f93f-0d75f360dcf7"
      },
      "execution_count": 5,
      "outputs": [
        {
          "output_type": "error",
          "ename": "NameError",
          "evalue": "ignored",
          "traceback": [
            "\u001b[0;31m---------------------------------------------------------------------------\u001b[0m",
            "\u001b[0;31mNameError\u001b[0m                                 Traceback (most recent call last)",
            "\u001b[0;32m<ipython-input-5-424f58b984aa>\u001b[0m in \u001b[0;36m<cell line: 5>\u001b[0;34m()\u001b[0m\n\u001b[1;32m      3\u001b[0m \u001b[0;34m\u001b[0m\u001b[0m\n\u001b[1;32m      4\u001b[0m \u001b[0;31m# Write DataFrame to CSV file\u001b[0m\u001b[0;34m\u001b[0m\u001b[0;34m\u001b[0m\u001b[0m\n\u001b[0;32m----> 5\u001b[0;31m \u001b[0mnew_df\u001b[0m\u001b[0;34m.\u001b[0m\u001b[0mto_csv\u001b[0m\u001b[0;34m(\u001b[0m\u001b[0mcsv_file_path\u001b[0m\u001b[0;34m,\u001b[0m \u001b[0mindex\u001b[0m\u001b[0;34m=\u001b[0m\u001b[0;32mFalse\u001b[0m\u001b[0;34m)\u001b[0m\u001b[0;34m\u001b[0m\u001b[0;34m\u001b[0m\u001b[0m\n\u001b[0m",
            "\u001b[0;31mNameError\u001b[0m: name 'new_df' is not defined"
          ]
        }
      ]
    },
    {
      "cell_type": "code",
      "source": [
        "# Read CSV into DataFrame\n",
        "df = pd.read_csv(csv_file_path)"
      ],
      "metadata": {
        "id": "axi-Qoz9uZCs"
      },
      "execution_count": 6,
      "outputs": []
    },
    {
      "cell_type": "code",
      "source": [
        "df.head(10)"
      ],
      "metadata": {
        "colab": {
          "base_uri": "https://localhost:8080/",
          "height": 359
        },
        "id": "ivSU3ChGur88",
        "outputId": "43112a68-a410-4b04-d44e-003228f7298a"
      },
      "execution_count": 7,
      "outputs": [
        {
          "output_type": "execute_result",
          "data": {
            "text/plain": [
              "   image                                          image_val  \\\n",
              "0  0.jpg  [[[0.65490196 0.61176471 0.64313725]\\n  [0.494...   \n",
              "1  1.jpg  [[[0.20784314 0.45098039 0.48235294]\\n  [0.054...   \n",
              "2  2.jpg  [[[0.30980392 0.43137255 0.49019608]\\n  [0.305...   \n",
              "3  3.jpg  [[[0.2627451  0.45490196 0.37647059]\\n  [0.101...   \n",
              "4  4.jpg  [[[0.6        0.53333333 0.57647059]\\n  [0.627...   \n",
              "5  5.jpg  [[[0.53333333 0.76078431 0.66666667]\\n  [0.619...   \n",
              "6  6.jpg  [[[0.36078431 0.49411765 0.61176471]\\n  [0.439...   \n",
              "7  7.jpg  [[[0.47843137 0.4745098  0.51372549]\\n  [0.505...   \n",
              "8  8.jpg  [[[0.61960784 0.69803922 0.81960784]\\n  [0.643...   \n",
              "9  9.jpg  [[[0.12156863 0.17254902 0.22745098]\\n  [0.   ...   \n",
              "\n",
              "                                         sub_classes super_class  \\\n",
              "0                               Afghan hound, Afghan         dog   \n",
              "1  bald eagle, American eagle, Haliaeetus leucoce...        bird   \n",
              "2                                          dowitcher        bird   \n",
              "3                  Gila monster, Heloderma suspectum     reptile   \n",
              "4      American alligator, Alligator mississipiensis     reptile   \n",
              "5            African chameleon, Chamaeleo chamaeleon     reptile   \n",
              "6                                            pelican        bird   \n",
              "7                 Tibetan terrier, chrysanthemum dog         dog   \n",
              "8                            bloodhound, sleuthhound         dog   \n",
              "9                               Afghan hound, Afghan         dog   \n",
              "\n",
              "                                          image_val2  \n",
              "0  [[[0.65490196 0.61176471 0.64313725]\\n  [0.494...  \n",
              "1  [[[0.20784314 0.45098039 0.48235294]\\n  [0.054...  \n",
              "2  [[[0.30980392 0.43137255 0.49019608]\\n  [0.305...  \n",
              "3  [[[0.2627451  0.45490196 0.37647059]\\n  [0.101...  \n",
              "4  [[[0.6        0.53333333 0.57647059]\\n  [0.627...  \n",
              "5  [[[0.53333333 0.76078431 0.66666667]\\n  [0.619...  \n",
              "6  [[[0.36078431 0.49411765 0.61176471]\\n  [0.439...  \n",
              "7  [[[0.47843137 0.4745098  0.51372549]\\n  [0.505...  \n",
              "8  [[[0.61960784 0.69803922 0.81960784]\\n  [0.643...  \n",
              "9  [[[0.12156863 0.17254902 0.22745098]\\n  [0.   ...  "
            ],
            "text/html": [
              "\n",
              "  <div id=\"df-85fdfb17-a309-4244-9c92-15503d15568e\" class=\"colab-df-container\">\n",
              "    <div>\n",
              "<style scoped>\n",
              "    .dataframe tbody tr th:only-of-type {\n",
              "        vertical-align: middle;\n",
              "    }\n",
              "\n",
              "    .dataframe tbody tr th {\n",
              "        vertical-align: top;\n",
              "    }\n",
              "\n",
              "    .dataframe thead th {\n",
              "        text-align: right;\n",
              "    }\n",
              "</style>\n",
              "<table border=\"1\" class=\"dataframe\">\n",
              "  <thead>\n",
              "    <tr style=\"text-align: right;\">\n",
              "      <th></th>\n",
              "      <th>image</th>\n",
              "      <th>image_val</th>\n",
              "      <th>sub_classes</th>\n",
              "      <th>super_class</th>\n",
              "      <th>image_val2</th>\n",
              "    </tr>\n",
              "  </thead>\n",
              "  <tbody>\n",
              "    <tr>\n",
              "      <th>0</th>\n",
              "      <td>0.jpg</td>\n",
              "      <td>[[[0.65490196 0.61176471 0.64313725]\\n  [0.494...</td>\n",
              "      <td>Afghan hound, Afghan</td>\n",
              "      <td>dog</td>\n",
              "      <td>[[[0.65490196 0.61176471 0.64313725]\\n  [0.494...</td>\n",
              "    </tr>\n",
              "    <tr>\n",
              "      <th>1</th>\n",
              "      <td>1.jpg</td>\n",
              "      <td>[[[0.20784314 0.45098039 0.48235294]\\n  [0.054...</td>\n",
              "      <td>bald eagle, American eagle, Haliaeetus leucoce...</td>\n",
              "      <td>bird</td>\n",
              "      <td>[[[0.20784314 0.45098039 0.48235294]\\n  [0.054...</td>\n",
              "    </tr>\n",
              "    <tr>\n",
              "      <th>2</th>\n",
              "      <td>2.jpg</td>\n",
              "      <td>[[[0.30980392 0.43137255 0.49019608]\\n  [0.305...</td>\n",
              "      <td>dowitcher</td>\n",
              "      <td>bird</td>\n",
              "      <td>[[[0.30980392 0.43137255 0.49019608]\\n  [0.305...</td>\n",
              "    </tr>\n",
              "    <tr>\n",
              "      <th>3</th>\n",
              "      <td>3.jpg</td>\n",
              "      <td>[[[0.2627451  0.45490196 0.37647059]\\n  [0.101...</td>\n",
              "      <td>Gila monster, Heloderma suspectum</td>\n",
              "      <td>reptile</td>\n",
              "      <td>[[[0.2627451  0.45490196 0.37647059]\\n  [0.101...</td>\n",
              "    </tr>\n",
              "    <tr>\n",
              "      <th>4</th>\n",
              "      <td>4.jpg</td>\n",
              "      <td>[[[0.6        0.53333333 0.57647059]\\n  [0.627...</td>\n",
              "      <td>American alligator, Alligator mississipiensis</td>\n",
              "      <td>reptile</td>\n",
              "      <td>[[[0.6        0.53333333 0.57647059]\\n  [0.627...</td>\n",
              "    </tr>\n",
              "    <tr>\n",
              "      <th>5</th>\n",
              "      <td>5.jpg</td>\n",
              "      <td>[[[0.53333333 0.76078431 0.66666667]\\n  [0.619...</td>\n",
              "      <td>African chameleon, Chamaeleo chamaeleon</td>\n",
              "      <td>reptile</td>\n",
              "      <td>[[[0.53333333 0.76078431 0.66666667]\\n  [0.619...</td>\n",
              "    </tr>\n",
              "    <tr>\n",
              "      <th>6</th>\n",
              "      <td>6.jpg</td>\n",
              "      <td>[[[0.36078431 0.49411765 0.61176471]\\n  [0.439...</td>\n",
              "      <td>pelican</td>\n",
              "      <td>bird</td>\n",
              "      <td>[[[0.36078431 0.49411765 0.61176471]\\n  [0.439...</td>\n",
              "    </tr>\n",
              "    <tr>\n",
              "      <th>7</th>\n",
              "      <td>7.jpg</td>\n",
              "      <td>[[[0.47843137 0.4745098  0.51372549]\\n  [0.505...</td>\n",
              "      <td>Tibetan terrier, chrysanthemum dog</td>\n",
              "      <td>dog</td>\n",
              "      <td>[[[0.47843137 0.4745098  0.51372549]\\n  [0.505...</td>\n",
              "    </tr>\n",
              "    <tr>\n",
              "      <th>8</th>\n",
              "      <td>8.jpg</td>\n",
              "      <td>[[[0.61960784 0.69803922 0.81960784]\\n  [0.643...</td>\n",
              "      <td>bloodhound, sleuthhound</td>\n",
              "      <td>dog</td>\n",
              "      <td>[[[0.61960784 0.69803922 0.81960784]\\n  [0.643...</td>\n",
              "    </tr>\n",
              "    <tr>\n",
              "      <th>9</th>\n",
              "      <td>9.jpg</td>\n",
              "      <td>[[[0.12156863 0.17254902 0.22745098]\\n  [0.   ...</td>\n",
              "      <td>Afghan hound, Afghan</td>\n",
              "      <td>dog</td>\n",
              "      <td>[[[0.12156863 0.17254902 0.22745098]\\n  [0.   ...</td>\n",
              "    </tr>\n",
              "  </tbody>\n",
              "</table>\n",
              "</div>\n",
              "    <div class=\"colab-df-buttons\">\n",
              "\n",
              "  <div class=\"colab-df-container\">\n",
              "    <button class=\"colab-df-convert\" onclick=\"convertToInteractive('df-85fdfb17-a309-4244-9c92-15503d15568e')\"\n",
              "            title=\"Convert this dataframe to an interactive table.\"\n",
              "            style=\"display:none;\">\n",
              "\n",
              "  <svg xmlns=\"http://www.w3.org/2000/svg\" height=\"24px\" viewBox=\"0 -960 960 960\">\n",
              "    <path d=\"M120-120v-720h720v720H120Zm60-500h600v-160H180v160Zm220 220h160v-160H400v160Zm0 220h160v-160H400v160ZM180-400h160v-160H180v160Zm440 0h160v-160H620v160ZM180-180h160v-160H180v160Zm440 0h160v-160H620v160Z\"/>\n",
              "  </svg>\n",
              "    </button>\n",
              "\n",
              "  <style>\n",
              "    .colab-df-container {\n",
              "      display:flex;\n",
              "      gap: 12px;\n",
              "    }\n",
              "\n",
              "    .colab-df-convert {\n",
              "      background-color: #E8F0FE;\n",
              "      border: none;\n",
              "      border-radius: 50%;\n",
              "      cursor: pointer;\n",
              "      display: none;\n",
              "      fill: #1967D2;\n",
              "      height: 32px;\n",
              "      padding: 0 0 0 0;\n",
              "      width: 32px;\n",
              "    }\n",
              "\n",
              "    .colab-df-convert:hover {\n",
              "      background-color: #E2EBFA;\n",
              "      box-shadow: 0px 1px 2px rgba(60, 64, 67, 0.3), 0px 1px 3px 1px rgba(60, 64, 67, 0.15);\n",
              "      fill: #174EA6;\n",
              "    }\n",
              "\n",
              "    .colab-df-buttons div {\n",
              "      margin-bottom: 4px;\n",
              "    }\n",
              "\n",
              "    [theme=dark] .colab-df-convert {\n",
              "      background-color: #3B4455;\n",
              "      fill: #D2E3FC;\n",
              "    }\n",
              "\n",
              "    [theme=dark] .colab-df-convert:hover {\n",
              "      background-color: #434B5C;\n",
              "      box-shadow: 0px 1px 3px 1px rgba(0, 0, 0, 0.15);\n",
              "      filter: drop-shadow(0px 1px 2px rgba(0, 0, 0, 0.3));\n",
              "      fill: #FFFFFF;\n",
              "    }\n",
              "  </style>\n",
              "\n",
              "    <script>\n",
              "      const buttonEl =\n",
              "        document.querySelector('#df-85fdfb17-a309-4244-9c92-15503d15568e button.colab-df-convert');\n",
              "      buttonEl.style.display =\n",
              "        google.colab.kernel.accessAllowed ? 'block' : 'none';\n",
              "\n",
              "      async function convertToInteractive(key) {\n",
              "        const element = document.querySelector('#df-85fdfb17-a309-4244-9c92-15503d15568e');\n",
              "        const dataTable =\n",
              "          await google.colab.kernel.invokeFunction('convertToInteractive',\n",
              "                                                    [key], {});\n",
              "        if (!dataTable) return;\n",
              "\n",
              "        const docLinkHtml = 'Like what you see? Visit the ' +\n",
              "          '<a target=\"_blank\" href=https://colab.research.google.com/notebooks/data_table.ipynb>data table notebook</a>'\n",
              "          + ' to learn more about interactive tables.';\n",
              "        element.innerHTML = '';\n",
              "        dataTable['output_type'] = 'display_data';\n",
              "        await google.colab.output.renderOutput(dataTable, element);\n",
              "        const docLink = document.createElement('div');\n",
              "        docLink.innerHTML = docLinkHtml;\n",
              "        element.appendChild(docLink);\n",
              "      }\n",
              "    </script>\n",
              "  </div>\n",
              "\n",
              "\n",
              "<div id=\"df-199f8e28-f904-4611-95e9-8bfc0eef2450\">\n",
              "  <button class=\"colab-df-quickchart\" onclick=\"quickchart('df-199f8e28-f904-4611-95e9-8bfc0eef2450')\"\n",
              "            title=\"Suggest charts\"\n",
              "            style=\"display:none;\">\n",
              "\n",
              "<svg xmlns=\"http://www.w3.org/2000/svg\" height=\"24px\"viewBox=\"0 0 24 24\"\n",
              "     width=\"24px\">\n",
              "    <g>\n",
              "        <path d=\"M19 3H5c-1.1 0-2 .9-2 2v14c0 1.1.9 2 2 2h14c1.1 0 2-.9 2-2V5c0-1.1-.9-2-2-2zM9 17H7v-7h2v7zm4 0h-2V7h2v10zm4 0h-2v-4h2v4z\"/>\n",
              "    </g>\n",
              "</svg>\n",
              "  </button>\n",
              "\n",
              "<style>\n",
              "  .colab-df-quickchart {\n",
              "      --bg-color: #E8F0FE;\n",
              "      --fill-color: #1967D2;\n",
              "      --hover-bg-color: #E2EBFA;\n",
              "      --hover-fill-color: #174EA6;\n",
              "      --disabled-fill-color: #AAA;\n",
              "      --disabled-bg-color: #DDD;\n",
              "  }\n",
              "\n",
              "  [theme=dark] .colab-df-quickchart {\n",
              "      --bg-color: #3B4455;\n",
              "      --fill-color: #D2E3FC;\n",
              "      --hover-bg-color: #434B5C;\n",
              "      --hover-fill-color: #FFFFFF;\n",
              "      --disabled-bg-color: #3B4455;\n",
              "      --disabled-fill-color: #666;\n",
              "  }\n",
              "\n",
              "  .colab-df-quickchart {\n",
              "    background-color: var(--bg-color);\n",
              "    border: none;\n",
              "    border-radius: 50%;\n",
              "    cursor: pointer;\n",
              "    display: none;\n",
              "    fill: var(--fill-color);\n",
              "    height: 32px;\n",
              "    padding: 0;\n",
              "    width: 32px;\n",
              "  }\n",
              "\n",
              "  .colab-df-quickchart:hover {\n",
              "    background-color: var(--hover-bg-color);\n",
              "    box-shadow: 0 1px 2px rgba(60, 64, 67, 0.3), 0 1px 3px 1px rgba(60, 64, 67, 0.15);\n",
              "    fill: var(--button-hover-fill-color);\n",
              "  }\n",
              "\n",
              "  .colab-df-quickchart-complete:disabled,\n",
              "  .colab-df-quickchart-complete:disabled:hover {\n",
              "    background-color: var(--disabled-bg-color);\n",
              "    fill: var(--disabled-fill-color);\n",
              "    box-shadow: none;\n",
              "  }\n",
              "\n",
              "  .colab-df-spinner {\n",
              "    border: 2px solid var(--fill-color);\n",
              "    border-color: transparent;\n",
              "    border-bottom-color: var(--fill-color);\n",
              "    animation:\n",
              "      spin 1s steps(1) infinite;\n",
              "  }\n",
              "\n",
              "  @keyframes spin {\n",
              "    0% {\n",
              "      border-color: transparent;\n",
              "      border-bottom-color: var(--fill-color);\n",
              "      border-left-color: var(--fill-color);\n",
              "    }\n",
              "    20% {\n",
              "      border-color: transparent;\n",
              "      border-left-color: var(--fill-color);\n",
              "      border-top-color: var(--fill-color);\n",
              "    }\n",
              "    30% {\n",
              "      border-color: transparent;\n",
              "      border-left-color: var(--fill-color);\n",
              "      border-top-color: var(--fill-color);\n",
              "      border-right-color: var(--fill-color);\n",
              "    }\n",
              "    40% {\n",
              "      border-color: transparent;\n",
              "      border-right-color: var(--fill-color);\n",
              "      border-top-color: var(--fill-color);\n",
              "    }\n",
              "    60% {\n",
              "      border-color: transparent;\n",
              "      border-right-color: var(--fill-color);\n",
              "    }\n",
              "    80% {\n",
              "      border-color: transparent;\n",
              "      border-right-color: var(--fill-color);\n",
              "      border-bottom-color: var(--fill-color);\n",
              "    }\n",
              "    90% {\n",
              "      border-color: transparent;\n",
              "      border-bottom-color: var(--fill-color);\n",
              "    }\n",
              "  }\n",
              "</style>\n",
              "\n",
              "  <script>\n",
              "    async function quickchart(key) {\n",
              "      const quickchartButtonEl =\n",
              "        document.querySelector('#' + key + ' button');\n",
              "      quickchartButtonEl.disabled = true;  // To prevent multiple clicks.\n",
              "      quickchartButtonEl.classList.add('colab-df-spinner');\n",
              "      try {\n",
              "        const charts = await google.colab.kernel.invokeFunction(\n",
              "            'suggestCharts', [key], {});\n",
              "      } catch (error) {\n",
              "        console.error('Error during call to suggestCharts:', error);\n",
              "      }\n",
              "      quickchartButtonEl.classList.remove('colab-df-spinner');\n",
              "      quickchartButtonEl.classList.add('colab-df-quickchart-complete');\n",
              "    }\n",
              "    (() => {\n",
              "      let quickchartButtonEl =\n",
              "        document.querySelector('#df-199f8e28-f904-4611-95e9-8bfc0eef2450 button');\n",
              "      quickchartButtonEl.style.display =\n",
              "        google.colab.kernel.accessAllowed ? 'block' : 'none';\n",
              "    })();\n",
              "  </script>\n",
              "</div>\n",
              "    </div>\n",
              "  </div>\n"
            ]
          },
          "metadata": {},
          "execution_count": 7
        }
      ]
    },
    {
      "cell_type": "code",
      "source": [
        "def load_images(image_paths):\n",
        "    names = df['image'].to_list()\n",
        "    images = []\n",
        "    for n in names:\n",
        "        path = image_paths+n\n",
        "        img = cv2.imread(path)\n",
        "        # You might need additional preprocessing here based on your requirements\n",
        "        images.append(img)\n",
        "    return np.array(images)"
      ],
      "metadata": {
        "id": "AmePzNuQQxg5"
      },
      "execution_count": 8,
      "outputs": []
    },
    {
      "cell_type": "code",
      "source": [
        "arr = load_images(train_path)"
      ],
      "metadata": {
        "id": "0UMitLqwQxp7"
      },
      "execution_count": 9,
      "outputs": []
    },
    {
      "cell_type": "code",
      "source": [
        "np_path = '/content/drive/MyDrive/np_array.csv'\n",
        "np.save('np_array.npy', arr)"
      ],
      "metadata": {
        "id": "VioCDxfggaoC"
      },
      "execution_count": 10,
      "outputs": []
    },
    {
      "cell_type": "code",
      "source": [
        "arr = np.load('np_array.npy')"
      ],
      "metadata": {
        "id": "Uy3VQuD0gbDA"
      },
      "execution_count": 12,
      "outputs": []
    },
    {
      "cell_type": "code",
      "source": [
        "labels = df['sub_classes'].values"
      ],
      "metadata": {
        "id": "9dE6-V6JT-ej"
      },
      "execution_count": 13,
      "outputs": []
    },
    {
      "cell_type": "code",
      "source": [
        "image_data = arr / 255.0"
      ],
      "metadata": {
        "id": "x0pEpbLYVxsm"
      },
      "execution_count": 14,
      "outputs": []
    },
    {
      "cell_type": "code",
      "source": [
        "# from sklearn.preprocessing import LabelEncoder, OneHotEncoder\n",
        "\n",
        "# # Convert labels to numerical values using LabelEncoder\n",
        "# label_encoder = LabelEncoder()\n",
        "# encoded_labels = label_encoder.fit_transform(labels)\n",
        "\n",
        "# # One-hot encode the numerical labels\n",
        "# onehot_encoder = OneHotEncoder(sparse=False)\n",
        "# encoded_labels = encoded_labels.reshape(len(encoded_labels), 1)\n",
        "from keras.utils import to_categorical\n",
        "# Use LabelEncoder to convert string labels to integers\n",
        "label_encoder = LabelEncoder()\n",
        "labels = label_encoder.fit_transform(labels)\n",
        "\n",
        "# Convert integer labels to one-hot encoded vectors\n",
        "onehot_labels = to_categorical(labels)"
      ],
      "metadata": {
        "id": "lfroDyPiVx0D"
      },
      "execution_count": 59,
      "outputs": []
    },
    {
      "cell_type": "code",
      "source": [
        "# Reshape the image to (6200*8, 8, 3)\n",
        "reshaped_image = image_data.reshape(-1, 8, 8, 3)\n",
        "\n",
        "# Initialize an empty array to store the upscaled images\n",
        "upscaled_images = []\n",
        "\n",
        "# Upscale each 8x8 patch to 32x32 using bilinear interpolation\n",
        "for patch in reshaped_image:\n",
        "    upscaled_patch = cv2.resize(patch, (32, 32), interpolation=cv2.INTER_LINEAR)\n",
        "    upscaled_images.append(upscaled_patch)\n"
      ],
      "metadata": {
        "id": "znZvb0-rdDui"
      },
      "execution_count": 60,
      "outputs": []
    },
    {
      "cell_type": "code",
      "source": [
        "# Convert the list of upscaled patches back to a NumPy array\n",
        "upscaled_image = np.array(upscaled_images)\n",
        "print(upscaled_image.shape)\n",
        "# Reshape the final upscaled image to (6200, 32, 32, 3)\n",
        "upscaled_image = upscaled_image.reshape(6472, 32, 32, 3)\n",
        "print(onehot_labels.shape)"
      ],
      "metadata": {
        "colab": {
          "base_uri": "https://localhost:8080/"
        },
        "id": "o-81FFhteRhp",
        "outputId": "729fca54-b932-43ee-ae1b-7a8ebeaa1bf3"
      },
      "execution_count": 61,
      "outputs": [
        {
          "output_type": "stream",
          "name": "stdout",
          "text": [
            "(6472, 32, 32, 3)\n",
            "(6472, 89)\n"
          ]
        }
      ]
    },
    {
      "cell_type": "code",
      "source": [
        "from tensorflow.keras.models import Sequential\n",
        "from tensorflow.keras.layers import Conv2D, MaxPooling2D, Flatten, Dense\n",
        "\n",
        "model = Sequential()\n",
        "model.add(Conv2D(32, (3, 3), activation='relu', input_shape=(32, 32, 3)))\n",
        "model.add(MaxPooling2D((2, 2)))\n",
        "model.add(Flatten())\n",
        "model.add(Dense(89, activation='softmax'))  # Adjust output size based on your classification task\n",
        "\n",
        "model.compile(optimizer='adam', loss='categorical_crossentropy', metrics=['accuracy'])\n",
        "model.fit(upscaled_image, onehot_labels, epochs=10, batch_size=32, validation_split=0.2)"
      ],
      "metadata": {
        "colab": {
          "base_uri": "https://localhost:8080/"
        },
        "id": "ILcX9C_Qe71_",
        "outputId": "08bcbb2f-5e3a-4587-893d-0d2d18f20196"
      },
      "execution_count": 62,
      "outputs": [
        {
          "output_type": "stream",
          "name": "stdout",
          "text": [
            "Epoch 1/10\n",
            "162/162 [==============================] - 2s 8ms/step - loss: 4.3111 - accuracy: 0.0440 - val_loss: 4.0355 - val_accuracy: 0.0788\n",
            "Epoch 2/10\n",
            "162/162 [==============================] - 1s 6ms/step - loss: 3.9664 - accuracy: 0.0894 - val_loss: 3.8716 - val_accuracy: 0.0988\n",
            "Epoch 3/10\n",
            "162/162 [==============================] - 1s 5ms/step - loss: 3.7262 - accuracy: 0.1331 - val_loss: 3.6995 - val_accuracy: 0.1506\n",
            "Epoch 4/10\n",
            "162/162 [==============================] - 1s 4ms/step - loss: 3.5024 - accuracy: 0.1692 - val_loss: 3.6005 - val_accuracy: 0.1429\n",
            "Epoch 5/10\n",
            "162/162 [==============================] - 1s 5ms/step - loss: 3.3159 - accuracy: 0.2104 - val_loss: 3.5555 - val_accuracy: 0.1544\n",
            "Epoch 6/10\n",
            "162/162 [==============================] - 1s 5ms/step - loss: 3.1544 - accuracy: 0.2316 - val_loss: 3.5090 - val_accuracy: 0.1514\n",
            "Epoch 7/10\n",
            "162/162 [==============================] - 1s 5ms/step - loss: 3.0199 - accuracy: 0.2571 - val_loss: 3.4920 - val_accuracy: 0.1529\n",
            "Epoch 8/10\n",
            "162/162 [==============================] - 1s 5ms/step - loss: 2.8842 - accuracy: 0.2782 - val_loss: 3.4748 - val_accuracy: 0.1606\n",
            "Epoch 9/10\n",
            "162/162 [==============================] - 1s 5ms/step - loss: 2.7521 - accuracy: 0.3033 - val_loss: 3.4871 - val_accuracy: 0.1637\n",
            "Epoch 10/10\n",
            "162/162 [==============================] - 1s 5ms/step - loss: 2.6455 - accuracy: 0.3297 - val_loss: 3.5008 - val_accuracy: 0.1436\n"
          ]
        },
        {
          "output_type": "execute_result",
          "data": {
            "text/plain": [
              "<keras.src.callbacks.History at 0x7fc2a1298580>"
            ]
          },
          "metadata": {},
          "execution_count": 62
        }
      ]
    },
    {
      "cell_type": "code",
      "source": [
        "import os\n",
        "import cv2\n",
        "import torch\n",
        "from torch.utils.data import Dataset\n",
        "from torchvision import transforms\n",
        "\n",
        "class CustomDataset(Dataset):\n",
        "    def __init__(self, train_path, df_train, df_subclass, df_superclass, transform=None):\n",
        "        self.train_path = train_path\n",
        "        self.df_train = df_train\n",
        "        self.df_subclass = df_subclass\n",
        "        self.df_superclass = df_superclass\n",
        "        self.transform = transform\n",
        "\n",
        "        self.file_names = df_train['image'].tolist()\n",
        "\n",
        "    def __len__(self):\n",
        "        return len(self.file_names)\n",
        "\n",
        "    def __getitem__(self, index):\n",
        "        file_name = self.file_names[index]\n",
        "        image_path = os.path.join(self.train_path, file_name)\n",
        "\n",
        "        # Read image\n",
        "        image = cv2.imread(image_path)\n",
        "        normalized_image = image / 255.0\n",
        "\n",
        "        # Extract subclass and superclass labels\n",
        "        val_sub = self.df_train.loc[self.df_train['image'] == file_name, 'subclass_index'].values[0]\n",
        "        val_sup = self.df_train.loc[self.df_train['image'] == file_name, 'superclass_index'].values[0]\n",
        "\n",
        "        sub = self.df_subclass.loc[val_sub]['class']\n",
        "        sup = self.df_superclass.loc[val_sup]['class']\n",
        "\n",
        "        # Apply transformations if provided\n",
        "        # if self.transform:\n",
        "        # normalized_image = self.transform(normalized_image)\n",
        "\n",
        "        # # Add this block to transpose the image dimensions\n",
        "\n",
        "        # Define a transformation\n",
        "        transform = transforms.Compose([\n",
        "            transforms.ToTensor(),\n",
        "        ])\n",
        "\n",
        "        # Apply the transformation\n",
        "        normalized_image = transform(image)\n",
        "        normalized_image = normalized_image.permute(2, 1, 0)\n",
        "        normalized_image = np.array(normalized_image)\n",
        "        upscaled_image = cv2.resize(normalized_image, (32, 32), interpolation=cv2.INTER_LINEAR)\n",
        "        image = torch.tensor(upscaled_image)\n",
        "\n",
        "        return {'image': image, 'subclass': sub, 'superclass': sup}\n",
        "\n",
        "# Example usage\n",
        "# Assuming train_path, df_train, df_subclass, and df_superclass are defined\n",
        "# and train_transform is your desired image transformation\n",
        "train_dataset = CustomDataset(train_path, df_train, df_subclass, df_superclass)\n",
        "\n",
        "# # Accessing data in the DataLoader\n",
        "# for i in range(len(train_dataset)):\n",
        "#     sample = train_dataset[i]\n",
        "#     image = sample['image']\n",
        "#     subclass = sample['subclass']\n",
        "#     superclass = sample['superclass']\n",
        "\n",
        "#     # Perform your training/validation/testing logic here\n",
        "#     print(f\"Subclass: {subclass}, Superclass: {superclass}, Image Shape: {image.shape}\")"
      ],
      "metadata": {
        "id": "OlRDl4Zm6l1J"
      },
      "execution_count": 63,
      "outputs": []
    },
    {
      "cell_type": "code",
      "source": [
        "import matplotlib.pyplot as plt\n",
        "import torch\n",
        "\n",
        "# Assuming train_dataset is your CustomDataset\n",
        "# Accessing data for the first sample\n",
        "sample = train_dataset[0]\n",
        "image = sample['image']\n",
        "subclass = sample['subclass']\n",
        "\n",
        "# Convert the PyTorch tensor to a NumPy array\n",
        "image = image.permute(1,0,2)\n",
        "print(image.shape)\n",
        "image_np = image.numpy()\n",
        "\n",
        "# Display the image\n",
        "plt.imshow(image_np)  # Transpose for correct channel order\n",
        "plt.title(f\"Subclass: {subclass}\")\n",
        "plt.show()"
      ],
      "metadata": {
        "colab": {
          "base_uri": "https://localhost:8080/",
          "height": 469
        },
        "id": "80j8jAVSF0vK",
        "outputId": "28167645-aa11-4c89-9101-dcf1ebdc24df"
      },
      "execution_count": 64,
      "outputs": [
        {
          "output_type": "stream",
          "name": "stdout",
          "text": [
            "torch.Size([32, 32, 3])\n"
          ]
        },
        {
          "output_type": "display_data",
          "data": {
            "text/plain": [
              "<Figure size 640x480 with 1 Axes>"
            ],
            "image/png": "[encoded data removed]"
          },
          "metadata": {}
        }
      ]
    },
    {
      "cell_type": "code",
      "source": [
        "from sklearn.model_selection import train_test_split\n",
        "from torch.utils.data import DataLoader\n",
        "\n",
        "# Assuming train_dataset is your CustomDataset\n",
        "# Split the dataset into training and validation sets\n",
        "# upscaled_images,  = train_test_split(train_dataset, test_size=0.2, random_state=42)\n",
        "\n",
        "# # Define the DataLoader for training and validation sets\n",
        "# train_loader = DataLoader(train_dataset, batch_size=32, shuffle=True)\n",
        "# val_loader = DataLoader(val_dataset, batch_size=32, shuffle=False)\n",
        "\n",
        "train_X,valid_X,train_ground,valid_ground = train_test_split(upscaled_image,\n",
        "                                                             upscaled_image,\n",
        "                                                             test_size=0.2,\n",
        "                                                             random_state=13)"
      ],
      "metadata": {
        "id": "1yaNViYzGnMG"
      },
      "execution_count": 66,
      "outputs": []
    },
    {
      "cell_type": "code",
      "source": [],
      "metadata": {
        "id": "PwbkRqrpD9oe"
      },
      "execution_count": null,
      "outputs": []
    },
    {
      "cell_type": "code",
      "source": [
        "# Assuming train_loader and val_loader are your DataLoader objects\n",
        "size_train_loader = len(train_loader)\n",
        "size_val_loader = len(val_loader)\n",
        "\n",
        "print(f\"Number of batches in training loader: {size_train_loader}\")\n",
        "print(f\"Number of batches in validation loader: {size_val_loader}\")\n",
        "\n",
        "batch_size = 32\n",
        "\n",
        "# Alternatively, if you want to get the number of samples\n",
        "num_samples_train = size_train_loader * batch_size  # Assuming batch_size is defined\n",
        "num_samples_val = size_val_loader * batch_size\n",
        "\n",
        "print(f\"Number of samples in training loader: {num_samples_train}\")\n",
        "print(f\"Number of samples in validation loader: {num_samples_val}\")"
      ],
      "metadata": {
        "colab": {
          "base_uri": "https://localhost:8080/"
        },
        "id": "_f4nRD87HN4G",
        "outputId": "80884312-87f9-40f6-8969-b5a1335299d3"
      },
      "execution_count": null,
      "outputs": [
        {
          "output_type": "stream",
          "name": "stdout",
          "text": [
            "Number of batches in training loader: 162\n",
            "Number of batches in validation loader: 41\n",
            "Number of samples in training loader: 5184\n",
            "Number of samples in validation loader: 1312\n"
          ]
        }
      ]
    },
    {
      "cell_type": "code",
      "source": [
        "# Flatten the image data to (6200, 32*32*3)\n",
        "flattened_image_data = upscaled_image.reshape(upscaled_image.shape[0], -1)\n",
        "\n",
        "# Perform the train-validation split\n",
        "train_data, val_data, train_labels, val_labels = train_test_split(\n",
        "    upscaled_image, onehot_labels, test_size=0.2, random_state=42\n",
        ")\n",
        "\n",
        "# Reshape the data back to the original shape\n",
        "train_data = train_data.reshape(train_data.shape[0], 32, 32, 3)\n",
        "val_data = val_data.reshape(val_data.shape[0], 32, 32, 3)"
      ],
      "metadata": {
        "id": "MPIOSISNhpWT"
      },
      "execution_count": 85,
      "outputs": []
    },
    {
      "cell_type": "code",
      "source": [
        "input_tensor = tf.keras.Input(shape=(32, 32, 3))"
      ],
      "metadata": {
        "colab": {
          "base_uri": "https://localhost:8080/",
          "height": 174
        },
        "id": "oU_npN2Yicrg",
        "outputId": "e3eac8a6-7631-466b-bb29-d6a752c6eab5"
      },
      "execution_count": 64,
      "outputs": [
        {
          "output_type": "error",
          "ename": "NameError",
          "evalue": "ignored",
          "traceback": [
            "\u001b[0;31m---------------------------------------------------------------------------\u001b[0m",
            "\u001b[0;31mNameError\u001b[0m                                 Traceback (most recent call last)",
            "\u001b[0;32m<ipython-input-64-4fc878f02f54>\u001b[0m in \u001b[0;36m<cell line: 1>\u001b[0;34m()\u001b[0m\n\u001b[0;32m----> 1\u001b[0;31m \u001b[0minput_tensor\u001b[0m \u001b[0;34m=\u001b[0m \u001b[0mtf\u001b[0m\u001b[0;34m.\u001b[0m\u001b[0mkeras\u001b[0m\u001b[0;34m.\u001b[0m\u001b[0mInput\u001b[0m\u001b[0;34m(\u001b[0m\u001b[0mshape\u001b[0m\u001b[0;34m=\u001b[0m\u001b[0;34m(\u001b[0m\u001b[0;36m32\u001b[0m\u001b[0;34m,\u001b[0m \u001b[0;36m32\u001b[0m\u001b[0;34m,\u001b[0m \u001b[0;36m3\u001b[0m\u001b[0;34m)\u001b[0m\u001b[0;34m)\u001b[0m\u001b[0;34m\u001b[0m\u001b[0;34m\u001b[0m\u001b[0m\n\u001b[0m",
            "\u001b[0;31mNameError\u001b[0m: name 'tf' is not defined"
          ]
        }
      ]
    },
    {
      "cell_type": "code",
      "source": [
        "import tensorflow as tf\n",
        "batch_size = 64\n",
        "epochs = 10\n",
        "inChannel = 3\n",
        "x, y = 32, 32\n",
        "input_img = tf.keras.Input(shape = (x, y, inChannel))\n",
        "num_classes = 89"
      ],
      "metadata": {
        "id": "UBJ6lanJHhhL"
      },
      "execution_count": 86,
      "outputs": []
    },
    {
      "cell_type": "code",
      "source": [
        "def encoder(input_img):\n",
        "    #encoder\n",
        "    #input = 28 x 28 x 1 (wide and thin)\n",
        "    conv1 = Conv2D(32, (3, 3), activation='relu', padding='same')(input_img) #28 x 28 x 32\n",
        "    conv1 = BatchNormalization()(conv1)\n",
        "    conv1 = Conv2D(32, (3, 3), activation='relu', padding='same')(conv1)\n",
        "    conv1 = BatchNormalization()(conv1)\n",
        "    pool1 = MaxPooling2D(pool_size=(2, 2))(conv1) #14 x 14 x 32\n",
        "    conv2 = Conv2D(64, (3, 3), activation='relu', padding='same')(pool1) #14 x 14 x 64\n",
        "    conv2 = BatchNormalization()(conv2)\n",
        "    conv2 = Conv2D(64, (3, 3), activation='relu', padding='same')(conv2)\n",
        "    conv2 = BatchNormalization()(conv2)\n",
        "    pool2 = MaxPooling2D(pool_size=(2, 2))(conv2) #7 x 7 x 64\n",
        "    conv3 = Conv2D(128, (3, 3), activation='relu', padding='same')(pool2) #7 x 7 x 128 (small and thick)\n",
        "    conv3 = BatchNormalization()(conv3)\n",
        "    conv3 = Conv2D(128, (3, 3), activation='relu', padding='same')(conv3)\n",
        "    conv3 = BatchNormalization()(conv3)\n",
        "    conv4 = Conv2D(256, (3, 3), activation='relu', padding='same')(conv3) #7 x 7 x 256 (small and thick)\n",
        "    conv4 = BatchNormalization()(conv4)\n",
        "    conv4 = Conv2D(256, (3, 3), activation='relu', padding='same')(conv4)\n",
        "    conv4 = BatchNormalization()(conv4)\n",
        "    return conv4\n",
        "\n",
        "def decoder(conv4):\n",
        "    #decoder\n",
        "    conv5 = Conv2D(128, (3, 3), activation='relu', padding='same')(conv4) #7 x 7 x 128\n",
        "    conv5 = BatchNormalization()(conv5)\n",
        "    conv5 = Conv2D(128, (3, 3), activation='relu', padding='same')(conv5)\n",
        "    conv5 = BatchNormalization()(conv5)\n",
        "    conv6 = Conv2D(64, (3, 3), activation='relu', padding='same')(conv5) #7 x 7 x 64\n",
        "    conv6 = BatchNormalization()(conv6)\n",
        "    conv6 = Conv2D(64, (3, 3), activation='relu', padding='same')(conv6)\n",
        "    conv6 = BatchNormalization()(conv6)\n",
        "    up1 = UpSampling2D((2,2))(conv6) #14 x 14 x 64\n",
        "    conv7 = Conv2D(32, (3, 3), activation='relu', padding='same')(up1) # 14 x 14 x 32\n",
        "    conv7 = BatchNormalization()(conv7)\n",
        "    conv7 = Conv2D(32, (3, 3), activation='relu', padding='same')(conv7)\n",
        "    conv7 = BatchNormalization()(conv7)\n",
        "    up2 = UpSampling2D((2,2))(conv7) # 28 x 28 x 32\n",
        "    decoded = Conv2D(1, (3, 3), activation='sigmoid', padding='same')(up2) # 28 x 28 x 1\n",
        "    return decoded"
      ],
      "metadata": {
        "id": "_oZ6a4WEPLEB"
      },
      "execution_count": 87,
      "outputs": []
    },
    {
      "cell_type": "code",
      "source": [
        "autoencoder = Model(input_img, decoder(encoder(input_img)))\n",
        "autoencoder.compile(loss='mean_squared_error', optimizer = RMSprop())"
      ],
      "metadata": {
        "id": "iPTQLoM1PRkL"
      },
      "execution_count": 88,
      "outputs": []
    },
    {
      "cell_type": "code",
      "source": [
        "autoencoder.summary()"
      ],
      "metadata": {
        "colab": {
          "base_uri": "https://localhost:8080/"
        },
        "id": "Kym_IVg6PTv_",
        "outputId": "c210142b-9f4b-4a45-8ad9-bdc7881495cd"
      },
      "execution_count": 89,
      "outputs": [
        {
          "output_type": "stream",
          "name": "stdout",
          "text": [
            "Model: \"model_4\"\n",
            "_________________________________________________________________\n",
            " Layer (type)                Output Shape              Param #   \n",
            "=================================================================\n",
            " input_3 (InputLayer)        [(None, 32, 32, 3)]       0         \n",
            "                                                                 \n",
            " conv2d_48 (Conv2D)          (None, 32, 32, 32)        896       \n",
            "                                                                 \n",
            " batch_normalization_44 (Ba  (None, 32, 32, 32)        128       \n",
            " tchNormalization)                                               \n",
            "                                                                 \n",
            " conv2d_49 (Conv2D)          (None, 32, 32, 32)        9248      \n",
            "                                                                 \n",
            " batch_normalization_45 (Ba  (None, 32, 32, 32)        128       \n",
            " tchNormalization)                                               \n",
            "                                                                 \n",
            " max_pooling2d_10 (MaxPooli  (None, 16, 16, 32)        0         \n",
            " ng2D)                                                           \n",
            "                                                                 \n",
            " conv2d_50 (Conv2D)          (None, 16, 16, 64)        18496     \n",
            "                                                                 \n",
            " batch_normalization_46 (Ba  (None, 16, 16, 64)        256       \n",
            " tchNormalization)                                               \n",
            "                                                                 \n",
            " conv2d_51 (Conv2D)          (None, 16, 16, 64)        36928     \n",
            "                                                                 \n",
            " batch_normalization_47 (Ba  (None, 16, 16, 64)        256       \n",
            " tchNormalization)                                               \n",
            "                                                                 \n",
            " max_pooling2d_11 (MaxPooli  (None, 8, 8, 64)          0         \n",
            " ng2D)                                                           \n",
            "                                                                 \n",
            " conv2d_52 (Conv2D)          (None, 8, 8, 128)         73856     \n",
            "                                                                 \n",
            " batch_normalization_48 (Ba  (None, 8, 8, 128)         512       \n",
            " tchNormalization)                                               \n",
            "                                                                 \n",
            " conv2d_53 (Conv2D)          (None, 8, 8, 128)         147584    \n",
            "                                                                 \n",
            " batch_normalization_49 (Ba  (None, 8, 8, 128)         512       \n",
            " tchNormalization)                                               \n",
            "                                                                 \n",
            " conv2d_54 (Conv2D)          (None, 8, 8, 256)         295168    \n",
            "                                                                 \n",
            " batch_normalization_50 (Ba  (None, 8, 8, 256)         1024      \n",
            " tchNormalization)                                               \n",
            "                                                                 \n",
            " conv2d_55 (Conv2D)          (None, 8, 8, 256)         590080    \n",
            "                                                                 \n",
            " batch_normalization_51 (Ba  (None, 8, 8, 256)         1024      \n",
            " tchNormalization)                                               \n",
            "                                                                 \n",
            " conv2d_56 (Conv2D)          (None, 8, 8, 128)         295040    \n",
            "                                                                 \n",
            " batch_normalization_52 (Ba  (None, 8, 8, 128)         512       \n",
            " tchNormalization)                                               \n",
            "                                                                 \n",
            " conv2d_57 (Conv2D)          (None, 8, 8, 128)         147584    \n",
            "                                                                 \n",
            " batch_normalization_53 (Ba  (None, 8, 8, 128)         512       \n",
            " tchNormalization)                                               \n",
            "                                                                 \n",
            " conv2d_58 (Conv2D)          (None, 8, 8, 64)          73792     \n",
            "                                                                 \n",
            " batch_normalization_54 (Ba  (None, 8, 8, 64)          256       \n",
            " tchNormalization)                                               \n",
            "                                                                 \n",
            " conv2d_59 (Conv2D)          (None, 8, 8, 64)          36928     \n",
            "                                                                 \n",
            " batch_normalization_55 (Ba  (None, 8, 8, 64)          256       \n",
            " tchNormalization)                                               \n",
            "                                                                 \n",
            " up_sampling2d_4 (UpSamplin  (None, 16, 16, 64)        0         \n",
            " g2D)                                                            \n",
            "                                                                 \n",
            " conv2d_60 (Conv2D)          (None, 16, 16, 32)        18464     \n",
            "                                                                 \n",
            " batch_normalization_56 (Ba  (None, 16, 16, 32)        128       \n",
            " tchNormalization)                                               \n",
            "                                                                 \n",
            " conv2d_61 (Conv2D)          (None, 16, 16, 32)        9248      \n",
            "                                                                 \n",
            " batch_normalization_57 (Ba  (None, 16, 16, 32)        128       \n",
            " tchNormalization)                                               \n",
            "                                                                 \n",
            " up_sampling2d_5 (UpSamplin  (None, 32, 32, 32)        0         \n",
            " g2D)                                                            \n",
            "                                                                 \n",
            " conv2d_62 (Conv2D)          (None, 32, 32, 1)         289       \n",
            "                                                                 \n",
            "=================================================================\n",
            "Total params: 1759233 (6.71 MB)\n",
            "Trainable params: 1756417 (6.70 MB)\n",
            "Non-trainable params: 2816 (11.00 KB)\n",
            "_________________________________________________________________\n"
          ]
        }
      ]
    },
    {
      "cell_type": "code",
      "source": [
        "autoencoder_train = autoencoder.fit(train_X, train_ground, batch_size=batch_size,epochs=epochs,verbose=1,validation_data=(valid_X, valid_ground))"
      ],
      "metadata": {
        "colab": {
          "base_uri": "https://localhost:8080/"
        },
        "id": "v1EK-VVrRRlT",
        "outputId": "e46c8fcf-6de9-4b68-8c06-6df323f6e6ba"
      },
      "execution_count": 90,
      "outputs": [
        {
          "output_type": "stream",
          "name": "stdout",
          "text": [
            "Epoch 1/10\n",
            "81/81 [==============================] - 8s 30ms/step - loss: 0.0155 - val_loss: 0.0234\n",
            "Epoch 2/10\n",
            "81/81 [==============================] - 2s 22ms/step - loss: 0.0076 - val_loss: 0.0222\n",
            "Epoch 3/10\n",
            "81/81 [==============================] - 2s 20ms/step - loss: 0.0067 - val_loss: 0.0180\n",
            "Epoch 4/10\n",
            "81/81 [==============================] - 2s 20ms/step - loss: 0.0063 - val_loss: 0.0166\n",
            "Epoch 5/10\n",
            "81/81 [==============================] - 2s 21ms/step - loss: 0.0060 - val_loss: 0.0113\n",
            "Epoch 6/10\n",
            "81/81 [==============================] - 2s 20ms/step - loss: 0.0058 - val_loss: 0.0070\n",
            "Epoch 7/10\n",
            "81/81 [==============================] - 2s 20ms/step - loss: 0.0057 - val_loss: 0.0060\n",
            "Epoch 8/10\n",
            "81/81 [==============================] - 2s 23ms/step - loss: 0.0056 - val_loss: 0.0051\n",
            "Epoch 9/10\n",
            "81/81 [==============================] - 2s 25ms/step - loss: 0.0056 - val_loss: 0.0052\n",
            "Epoch 10/10\n",
            "81/81 [==============================] - 2s 23ms/step - loss: 0.0055 - val_loss: 0.0052\n"
          ]
        }
      ]
    },
    {
      "cell_type": "code",
      "source": [
        "loss = autoencoder_train.history['loss']\n",
        "val_loss = autoencoder_train.history['val_loss']\n",
        "epochs = range(10)\n",
        "plt.figure()\n",
        "plt.plot(epochs, loss, 'bo', label='Training loss')\n",
        "plt.plot(epochs, val_loss, 'b', label='Validation loss')\n",
        "plt.title('Training and validation loss')\n",
        "plt.legend()\n",
        "plt.show()"
      ],
      "metadata": {
        "colab": {
          "base_uri": "https://localhost:8080/",
          "height": 452
        },
        "id": "Xeda6p7DRqlO",
        "outputId": "b5509ba1-1fd6-4564-bbd7-0f280bdb257d"
      },
      "execution_count": 91,
      "outputs": [
        {
          "output_type": "display_data",
          "data": {
            "text/plain": [
              "<Figure size 640x480 with 1 Axes>"
            ],
            "image/png": "[encoded data removed]"
          },
          "metadata": {}
        }
      ]
    },
    {
      "cell_type": "code",
      "source": [
        "autoencoder.save_weights('autoencoder.h5')"
      ],
      "metadata": {
        "id": "B9GCMSwtGuWR"
      },
      "execution_count": 92,
      "outputs": []
    },
    {
      "cell_type": "code",
      "source": [
        "def encoder(input_img):\n",
        "    #encoder\n",
        "    #input = 28 x 28 x 1 (wide and thin)\n",
        "    conv1 = Conv2D(32, (3, 3), activation='relu', padding='same')(input_img) #28 x 28 x 32\n",
        "    conv1 = BatchNormalization()(conv1)\n",
        "    conv1 = Conv2D(32, (3, 3), activation='relu', padding='same')(conv1)\n",
        "    conv1 = BatchNormalization()(conv1)\n",
        "    pool1 = MaxPooling2D(pool_size=(2, 2))(conv1) #14 x 14 x 32\n",
        "    conv2 = Conv2D(64, (3, 3), activation='relu', padding='same')(pool1) #14 x 14 x 64\n",
        "    conv2 = BatchNormalization()(conv2)\n",
        "    conv2 = Conv2D(64, (3, 3), activation='relu', padding='same')(conv2)\n",
        "    conv2 = BatchNormalization()(conv2)\n",
        "    pool2 = MaxPooling2D(pool_size=(2, 2))(conv2) #7 x 7 x 64\n",
        "    conv3 = Conv2D(128, (3, 3), activation='relu', padding='same')(pool2) #7 x 7 x 128 (small and thick)\n",
        "    conv3 = BatchNormalization()(conv3)\n",
        "    conv3 = Conv2D(128, (3, 3), activation='relu', padding='same')(conv3)\n",
        "    conv3 = BatchNormalization()(conv3)\n",
        "    conv4 = Conv2D(256, (3, 3), activation='relu', padding='same')(conv3) #7 x 7 x 256 (small and thick)\n",
        "    conv4 = BatchNormalization()(conv4)\n",
        "    conv4 = Conv2D(256, (3, 3), activation='relu', padding='same')(conv4)\n",
        "    conv4 = BatchNormalization()(conv4)\n",
        "    return conv4"
      ],
      "metadata": {
        "id": "01u_CCT-Heaw"
      },
      "execution_count": 93,
      "outputs": []
    },
    {
      "cell_type": "code",
      "source": [
        "def fc(enco):\n",
        "    flat = Flatten()(enco)\n",
        "    den = Dense(128, activation='relu')(flat)\n",
        "    out = Dense(num_classes, activation='softmax')(den)\n",
        "    return out"
      ],
      "metadata": {
        "id": "1h4NtKI3HfIZ"
      },
      "execution_count": 94,
      "outputs": []
    },
    {
      "cell_type": "code",
      "source": [
        "encode = encoder(input_img)\n",
        "full_model = Model(input_img,fc(encode))"
      ],
      "metadata": {
        "id": "hvGbgoVjHrBT"
      },
      "execution_count": 95,
      "outputs": []
    },
    {
      "cell_type": "code",
      "source": [
        "for l1,l2 in zip(full_model.layers[:19],autoencoder.layers[0:19]):\n",
        "    l1.set_weights(l2.get_weights())"
      ],
      "metadata": {
        "id": "96Uwf9lDHyxV"
      },
      "execution_count": 96,
      "outputs": []
    },
    {
      "cell_type": "code",
      "source": [
        "autoencoder.get_weights()[0][1]"
      ],
      "metadata": {
        "colab": {
          "base_uri": "https://localhost:8080/"
        },
        "id": "Buhwfm_hHz2c",
        "outputId": "11660a2b-cc9f-4bf6-c4cc-6426146ede81"
      },
      "execution_count": 97,
      "outputs": [
        {
          "output_type": "execute_result",
          "data": {
            "text/plain": [
              "array([[[-4.26645651e-02,  3.35904248e-02, -3.93853076e-02,\n",
              "         -7.18702599e-02, -2.28761341e-02, -1.05232999e-01,\n",
              "         -1.02194361e-01, -9.75061581e-02, -5.32317162e-02,\n",
              "         -1.18889011e-01, -7.09315464e-02,  4.93688658e-02,\n",
              "          2.31342744e-02,  1.16485946e-01,  1.23883680e-01,\n",
              "          1.07833110e-01, -1.20312691e-01, -7.97835588e-02,\n",
              "         -1.20980665e-01, -8.78475010e-02, -1.18142374e-01,\n",
              "          1.33396655e-01, -4.25718538e-02, -1.23843607e-02,\n",
              "          7.22559616e-02, -4.10377160e-02, -1.00322798e-01,\n",
              "         -4.60602669e-03,  1.05953500e-01, -3.08621060e-02,\n",
              "          1.24260157e-01,  1.95793621e-02],\n",
              "        [ 7.89133236e-02,  4.35788780e-02,  9.75004360e-02,\n",
              "          1.03105111e-02, -5.30517139e-02, -7.49837607e-02,\n",
              "          1.19263329e-01,  9.90504846e-02, -8.28088354e-03,\n",
              "         -8.14313535e-03,  6.10197484e-02,  1.04333311e-01,\n",
              "          9.71474797e-02,  3.86586189e-02, -2.11124253e-02,\n",
              "         -8.74956399e-02, -3.08405459e-02, -8.41699317e-02,\n",
              "         -1.11387201e-01, -7.07389340e-02, -4.08940613e-02,\n",
              "         -3.82888759e-03, -4.00042497e-02, -1.18774898e-01,\n",
              "          1.80335483e-03,  4.89523746e-02, -2.38297191e-02,\n",
              "         -6.61163311e-03,  1.18690163e-01, -7.55250156e-02,\n",
              "         -3.20133939e-02,  5.52043505e-02],\n",
              "        [ 3.92029323e-02, -8.97093788e-02,  3.16902921e-02,\n",
              "         -2.39739139e-02, -1.44019380e-01, -1.03258036e-01,\n",
              "          7.69163743e-02,  6.65948465e-02, -8.92758965e-02,\n",
              "         -5.86025380e-02,  4.03800458e-02, -4.31872578e-03,\n",
              "          1.30980477e-01,  1.20173626e-01, -5.21320999e-02,\n",
              "          2.28650719e-02, -8.56699646e-02, -3.76045927e-02,\n",
              "         -1.11787304e-01, -2.60823648e-02,  3.26976180e-04,\n",
              "          9.81079191e-02, -1.05470128e-01, -1.36931509e-01,\n",
              "          2.57925484e-02,  6.47436827e-02,  1.21871747e-01,\n",
              "          8.19391832e-02, -3.51713598e-02, -1.23805024e-01,\n",
              "         -1.94298215e-02,  1.16617508e-01]],\n",
              "\n",
              "       [[ 7.25537613e-02,  8.07495192e-02, -9.81351286e-02,\n",
              "         -8.14244896e-02, -1.28514767e-01,  8.29790086e-02,\n",
              "         -1.32909834e-01, -1.31963313e-01, -1.33918628e-01,\n",
              "          6.21414781e-02, -1.36951521e-01,  8.92382339e-02,\n",
              "          7.87194148e-02, -9.52792242e-02, -1.42898466e-02,\n",
              "          1.48549452e-01, -7.28244260e-02,  8.02735165e-02,\n",
              "          5.07238510e-05,  8.20797496e-03, -1.15229800e-01,\n",
              "          1.46337062e-01,  7.17199519e-02, -4.40930277e-02,\n",
              "         -8.17450061e-02,  1.07082568e-01,  5.10992892e-02,\n",
              "          1.02288730e-01,  1.03405699e-01,  9.06453282e-02,\n",
              "          1.33622780e-01,  5.39539158e-02],\n",
              "        [-3.24040577e-02,  1.32057920e-01,  1.14920989e-01,\n",
              "          4.96223532e-02, -7.32875392e-02, -4.87195561e-03,\n",
              "         -5.17616831e-02, -5.46658412e-02, -9.03632492e-02,\n",
              "          5.90811074e-02, -7.88841471e-02,  8.14852789e-02,\n",
              "          1.12118192e-01, -1.35608196e-01, -6.67038634e-02,\n",
              "         -4.87657152e-02, -5.53880669e-02, -6.99642375e-02,\n",
              "         -5.96109629e-02, -2.28499882e-02, -1.20419160e-01,\n",
              "          1.20878510e-01,  4.74797413e-02,  4.53028679e-02,\n",
              "         -3.53823812e-03, -8.75181779e-02,  1.26677111e-01,\n",
              "         -2.51089060e-03,  6.45110980e-02,  3.92655358e-02,\n",
              "         -1.70126259e-02,  1.60685666e-02],\n",
              "        [-3.26105058e-02, -8.46649706e-03, -1.30913347e-01,\n",
              "         -4.42730263e-02,  4.15561572e-02,  1.08821623e-01,\n",
              "          4.33515422e-02,  5.53137772e-02, -1.30430564e-01,\n",
              "          6.12442642e-02,  9.19929668e-02,  3.20725441e-02,\n",
              "          8.71300846e-02, -3.08617055e-02,  5.35994060e-02,\n",
              "          1.68125238e-02, -1.18888021e-02, -7.73469508e-02,\n",
              "          1.24615366e-02,  3.47881112e-03, -1.14434883e-01,\n",
              "          1.29484355e-01, -1.06496857e-02,  3.06914933e-02,\n",
              "         -5.19757275e-04,  5.90027645e-02,  1.03623822e-01,\n",
              "          2.53182221e-02, -4.53252420e-02, -1.24773405e-01,\n",
              "          7.52897887e-03, -1.28987119e-01]],\n",
              "\n",
              "       [[-4.89539541e-02,  1.43093700e-02,  8.60037282e-02,\n",
              "         -2.29454152e-02, -9.26875025e-02,  1.31430641e-01,\n",
              "          9.60291401e-02,  1.26943126e-01, -4.29276824e-02,\n",
              "         -8.00142139e-02,  4.38027317e-03,  1.29199818e-01,\n",
              "          4.52417694e-02,  4.27256227e-02,  1.25207365e-01,\n",
              "          3.71325612e-02,  5.08984365e-02,  1.32857889e-01,\n",
              "         -1.07271201e-03,  1.08897015e-01, -1.00361131e-01,\n",
              "         -7.60136023e-02, -8.55905265e-02,  9.09566879e-02,\n",
              "          2.87050847e-02, -1.10986106e-01, -6.42275587e-02,\n",
              "          8.78150389e-02, -9.20240432e-02,  1.00409426e-01,\n",
              "          9.16708335e-02, -8.49060640e-02],\n",
              "        [-9.51687470e-02,  7.36199468e-02,  8.21364447e-02,\n",
              "          1.03099950e-01, -3.40439864e-02, -2.65417397e-02,\n",
              "         -7.64020830e-02,  3.14080715e-02,  8.53221864e-02,\n",
              "         -9.24532562e-02, -1.29409810e-03,  1.04179844e-01,\n",
              "          2.69725341e-02, -1.27657607e-01, -5.52480109e-02,\n",
              "          1.39492638e-02, -2.76034046e-02,  1.36748940e-01,\n",
              "         -8.27153586e-03, -7.07047433e-02,  4.52446193e-02,\n",
              "          6.93148598e-02, -1.18006483e-01,  4.49132510e-02,\n",
              "          3.14221270e-02,  8.82008374e-02,  6.97825998e-02,\n",
              "          1.40800655e-01, -8.16968828e-02, -7.46164843e-02,\n",
              "         -2.82474030e-02, -4.32118252e-02],\n",
              "        [-1.23063391e-02, -6.32987171e-02,  1.26702785e-01,\n",
              "          6.84361309e-02, -5.64185120e-02, -6.22166991e-02,\n",
              "         -1.21809028e-01, -9.31166932e-02,  4.09712642e-02,\n",
              "          1.02342032e-01, -1.20430835e-01,  2.48700995e-02,\n",
              "         -5.41598052e-02, -1.07433304e-01, -7.02490658e-02,\n",
              "         -3.37691121e-02, -2.11975048e-03, -1.20713480e-01,\n",
              "         -8.53904635e-02,  5.86246699e-02, -5.13172150e-02,\n",
              "         -1.45810530e-01, -3.81334834e-02,  5.31995296e-02,\n",
              "          1.32002383e-02,  1.38925062e-02,  5.21644466e-02,\n",
              "         -2.86023058e-02,  1.29580334e-01, -1.29763961e-01,\n",
              "          2.96126418e-02,  5.45483567e-02]]], dtype=float32)"
            ]
          },
          "metadata": {},
          "execution_count": 97
        }
      ]
    },
    {
      "cell_type": "code",
      "source": [
        "full_model.get_weights()[0][1]"
      ],
      "metadata": {
        "colab": {
          "base_uri": "https://localhost:8080/"
        },
        "id": "Pm7kqnotH2uP",
        "outputId": "5e07a4c2-c171-47b0-f5f3-4e11b197c9d7"
      },
      "execution_count": 98,
      "outputs": [
        {
          "output_type": "execute_result",
          "data": {
            "text/plain": [
              "array([[[-4.26645651e-02,  3.35904248e-02, -3.93853076e-02,\n",
              "         -7.18702599e-02, -2.28761341e-02, -1.05232999e-01,\n",
              "         -1.02194361e-01, -9.75061581e-02, -5.32317162e-02,\n",
              "         -1.18889011e-01, -7.09315464e-02,  4.93688658e-02,\n",
              "          2.31342744e-02,  1.16485946e-01,  1.23883680e-01,\n",
              "          1.07833110e-01, -1.20312691e-01, -7.97835588e-02,\n",
              "         -1.20980665e-01, -8.78475010e-02, -1.18142374e-01,\n",
              "          1.33396655e-01, -4.25718538e-02, -1.23843607e-02,\n",
              "          7.22559616e-02, -4.10377160e-02, -1.00322798e-01,\n",
              "         -4.60602669e-03,  1.05953500e-01, -3.08621060e-02,\n",
              "          1.24260157e-01,  1.95793621e-02],\n",
              "        [ 7.89133236e-02,  4.35788780e-02,  9.75004360e-02,\n",
              "          1.03105111e-02, -5.30517139e-02, -7.49837607e-02,\n",
              "          1.19263329e-01,  9.90504846e-02, -8.28088354e-03,\n",
              "         -8.14313535e-03,  6.10197484e-02,  1.04333311e-01,\n",
              "          9.71474797e-02,  3.86586189e-02, -2.11124253e-02,\n",
              "         -8.74956399e-02, -3.08405459e-02, -8.41699317e-02,\n",
              "         -1.11387201e-01, -7.07389340e-02, -4.08940613e-02,\n",
              "         -3.82888759e-03, -4.00042497e-02, -1.18774898e-01,\n",
              "          1.80335483e-03,  4.89523746e-02, -2.38297191e-02,\n",
              "         -6.61163311e-03,  1.18690163e-01, -7.55250156e-02,\n",
              "         -3.20133939e-02,  5.52043505e-02],\n",
              "        [ 3.92029323e-02, -8.97093788e-02,  3.16902921e-02,\n",
              "         -2.39739139e-02, -1.44019380e-01, -1.03258036e-01,\n",
              "          7.69163743e-02,  6.65948465e-02, -8.92758965e-02,\n",
              "         -5.86025380e-02,  4.03800458e-02, -4.31872578e-03,\n",
              "          1.30980477e-01,  1.20173626e-01, -5.21320999e-02,\n",
              "          2.28650719e-02, -8.56699646e-02, -3.76045927e-02,\n",
              "         -1.11787304e-01, -2.60823648e-02,  3.26976180e-04,\n",
              "          9.81079191e-02, -1.05470128e-01, -1.36931509e-01,\n",
              "          2.57925484e-02,  6.47436827e-02,  1.21871747e-01,\n",
              "          8.19391832e-02, -3.51713598e-02, -1.23805024e-01,\n",
              "         -1.94298215e-02,  1.16617508e-01]],\n",
              "\n",
              "       [[ 7.25537613e-02,  8.07495192e-02, -9.81351286e-02,\n",
              "         -8.14244896e-02, -1.28514767e-01,  8.29790086e-02,\n",
              "         -1.32909834e-01, -1.31963313e-01, -1.33918628e-01,\n",
              "          6.21414781e-02, -1.36951521e-01,  8.92382339e-02,\n",
              "          7.87194148e-02, -9.52792242e-02, -1.42898466e-02,\n",
              "          1.48549452e-01, -7.28244260e-02,  8.02735165e-02,\n",
              "          5.07238510e-05,  8.20797496e-03, -1.15229800e-01,\n",
              "          1.46337062e-01,  7.17199519e-02, -4.40930277e-02,\n",
              "         -8.17450061e-02,  1.07082568e-01,  5.10992892e-02,\n",
              "          1.02288730e-01,  1.03405699e-01,  9.06453282e-02,\n",
              "          1.33622780e-01,  5.39539158e-02],\n",
              "        [-3.24040577e-02,  1.32057920e-01,  1.14920989e-01,\n",
              "          4.96223532e-02, -7.32875392e-02, -4.87195561e-03,\n",
              "         -5.17616831e-02, -5.46658412e-02, -9.03632492e-02,\n",
              "          5.90811074e-02, -7.88841471e-02,  8.14852789e-02,\n",
              "          1.12118192e-01, -1.35608196e-01, -6.67038634e-02,\n",
              "         -4.87657152e-02, -5.53880669e-02, -6.99642375e-02,\n",
              "         -5.96109629e-02, -2.28499882e-02, -1.20419160e-01,\n",
              "          1.20878510e-01,  4.74797413e-02,  4.53028679e-02,\n",
              "         -3.53823812e-03, -8.75181779e-02,  1.26677111e-01,\n",
              "         -2.51089060e-03,  6.45110980e-02,  3.92655358e-02,\n",
              "         -1.70126259e-02,  1.60685666e-02],\n",
              "        [-3.26105058e-02, -8.46649706e-03, -1.30913347e-01,\n",
              "         -4.42730263e-02,  4.15561572e-02,  1.08821623e-01,\n",
              "          4.33515422e-02,  5.53137772e-02, -1.30430564e-01,\n",
              "          6.12442642e-02,  9.19929668e-02,  3.20725441e-02,\n",
              "          8.71300846e-02, -3.08617055e-02,  5.35994060e-02,\n",
              "          1.68125238e-02, -1.18888021e-02, -7.73469508e-02,\n",
              "          1.24615366e-02,  3.47881112e-03, -1.14434883e-01,\n",
              "          1.29484355e-01, -1.06496857e-02,  3.06914933e-02,\n",
              "         -5.19757275e-04,  5.90027645e-02,  1.03623822e-01,\n",
              "          2.53182221e-02, -4.53252420e-02, -1.24773405e-01,\n",
              "          7.52897887e-03, -1.28987119e-01]],\n",
              "\n",
              "       [[-4.89539541e-02,  1.43093700e-02,  8.60037282e-02,\n",
              "         -2.29454152e-02, -9.26875025e-02,  1.31430641e-01,\n",
              "          9.60291401e-02,  1.26943126e-01, -4.29276824e-02,\n",
              "         -8.00142139e-02,  4.38027317e-03,  1.29199818e-01,\n",
              "          4.52417694e-02,  4.27256227e-02,  1.25207365e-01,\n",
              "          3.71325612e-02,  5.08984365e-02,  1.32857889e-01,\n",
              "         -1.07271201e-03,  1.08897015e-01, -1.00361131e-01,\n",
              "         -7.60136023e-02, -8.55905265e-02,  9.09566879e-02,\n",
              "          2.87050847e-02, -1.10986106e-01, -6.42275587e-02,\n",
              "          8.78150389e-02, -9.20240432e-02,  1.00409426e-01,\n",
              "          9.16708335e-02, -8.49060640e-02],\n",
              "        [-9.51687470e-02,  7.36199468e-02,  8.21364447e-02,\n",
              "          1.03099950e-01, -3.40439864e-02, -2.65417397e-02,\n",
              "         -7.64020830e-02,  3.14080715e-02,  8.53221864e-02,\n",
              "         -9.24532562e-02, -1.29409810e-03,  1.04179844e-01,\n",
              "          2.69725341e-02, -1.27657607e-01, -5.52480109e-02,\n",
              "          1.39492638e-02, -2.76034046e-02,  1.36748940e-01,\n",
              "         -8.27153586e-03, -7.07047433e-02,  4.52446193e-02,\n",
              "          6.93148598e-02, -1.18006483e-01,  4.49132510e-02,\n",
              "          3.14221270e-02,  8.82008374e-02,  6.97825998e-02,\n",
              "          1.40800655e-01, -8.16968828e-02, -7.46164843e-02,\n",
              "         -2.82474030e-02, -4.32118252e-02],\n",
              "        [-1.23063391e-02, -6.32987171e-02,  1.26702785e-01,\n",
              "          6.84361309e-02, -5.64185120e-02, -6.22166991e-02,\n",
              "         -1.21809028e-01, -9.31166932e-02,  4.09712642e-02,\n",
              "          1.02342032e-01, -1.20430835e-01,  2.48700995e-02,\n",
              "         -5.41598052e-02, -1.07433304e-01, -7.02490658e-02,\n",
              "         -3.37691121e-02, -2.11975048e-03, -1.20713480e-01,\n",
              "         -8.53904635e-02,  5.86246699e-02, -5.13172150e-02,\n",
              "         -1.45810530e-01, -3.81334834e-02,  5.31995296e-02,\n",
              "          1.32002383e-02,  1.38925062e-02,  5.21644466e-02,\n",
              "         -2.86023058e-02,  1.29580334e-01, -1.29763961e-01,\n",
              "          2.96126418e-02,  5.45483567e-02]]], dtype=float32)"
            ]
          },
          "metadata": {},
          "execution_count": 98
        }
      ]
    },
    {
      "cell_type": "code",
      "source": [
        "for layer in full_model.layers[0:19]:\n",
        "    layer.trainable = False"
      ],
      "metadata": {
        "id": "rkCm3b6CH7s-"
      },
      "execution_count": 99,
      "outputs": []
    },
    {
      "cell_type": "code",
      "source": [
        "\n",
        "full_model.compile(loss=keras.losses.categorical_crossentropy, optimizer=keras.optimizers.Adam(),metrics=['accuracy'])"
      ],
      "metadata": {
        "id": "s19Xc_VkH8zW"
      },
      "execution_count": 100,
      "outputs": []
    },
    {
      "cell_type": "code",
      "source": [
        "full_model.summary()"
      ],
      "metadata": {
        "colab": {
          "base_uri": "https://localhost:8080/"
        },
        "id": "kHqGiqEjIKXE",
        "outputId": "4cac67fe-19cc-469d-c82b-76e8f576da1a"
      },
      "execution_count": 101,
      "outputs": [
        {
          "output_type": "stream",
          "name": "stdout",
          "text": [
            "Model: \"model_5\"\n",
            "_________________________________________________________________\n",
            " Layer (type)                Output Shape              Param #   \n",
            "=================================================================\n",
            " input_3 (InputLayer)        [(None, 32, 32, 3)]       0         \n",
            "                                                                 \n",
            " conv2d_63 (Conv2D)          (None, 32, 32, 32)        896       \n",
            "                                                                 \n",
            " batch_normalization_58 (Ba  (None, 32, 32, 32)        128       \n",
            " tchNormalization)                                               \n",
            "                                                                 \n",
            " conv2d_64 (Conv2D)          (None, 32, 32, 32)        9248      \n",
            "                                                                 \n",
            " batch_normalization_59 (Ba  (None, 32, 32, 32)        128       \n",
            " tchNormalization)                                               \n",
            "                                                                 \n",
            " max_pooling2d_12 (MaxPooli  (None, 16, 16, 32)        0         \n",
            " ng2D)                                                           \n",
            "                                                                 \n",
            " conv2d_65 (Conv2D)          (None, 16, 16, 64)        18496     \n",
            "                                                                 \n",
            " batch_normalization_60 (Ba  (None, 16, 16, 64)        256       \n",
            " tchNormalization)                                               \n",
            "                                                                 \n",
            " conv2d_66 (Conv2D)          (None, 16, 16, 64)        36928     \n",
            "                                                                 \n",
            " batch_normalization_61 (Ba  (None, 16, 16, 64)        256       \n",
            " tchNormalization)                                               \n",
            "                                                                 \n",
            " max_pooling2d_13 (MaxPooli  (None, 8, 8, 64)          0         \n",
            " ng2D)                                                           \n",
            "                                                                 \n",
            " conv2d_67 (Conv2D)          (None, 8, 8, 128)         73856     \n",
            "                                                                 \n",
            " batch_normalization_62 (Ba  (None, 8, 8, 128)         512       \n",
            " tchNormalization)                                               \n",
            "                                                                 \n",
            " conv2d_68 (Conv2D)          (None, 8, 8, 128)         147584    \n",
            "                                                                 \n",
            " batch_normalization_63 (Ba  (None, 8, 8, 128)         512       \n",
            " tchNormalization)                                               \n",
            "                                                                 \n",
            " conv2d_69 (Conv2D)          (None, 8, 8, 256)         295168    \n",
            "                                                                 \n",
            " batch_normalization_64 (Ba  (None, 8, 8, 256)         1024      \n",
            " tchNormalization)                                               \n",
            "                                                                 \n",
            " conv2d_70 (Conv2D)          (None, 8, 8, 256)         590080    \n",
            "                                                                 \n",
            " batch_normalization_65 (Ba  (None, 8, 8, 256)         1024      \n",
            " tchNormalization)                                               \n",
            "                                                                 \n",
            " flatten_4 (Flatten)         (None, 16384)             0         \n",
            "                                                                 \n",
            " dense_6 (Dense)             (None, 128)               2097280   \n",
            "                                                                 \n",
            " dense_7 (Dense)             (None, 89)                11481     \n",
            "                                                                 \n",
            "=================================================================\n",
            "Total params: 3284857 (12.53 MB)\n",
            "Trainable params: 2108761 (8.04 MB)\n",
            "Non-trainable params: 1176096 (4.49 MB)\n",
            "_________________________________________________________________\n"
          ]
        }
      ]
    },
    {
      "cell_type": "code",
      "source": [
        "classify_train = full_model.fit(train_data, train_labels, batch_size=64,epochs=10,verbose=1,validation_data=(val_data, val_labels))"
      ],
      "metadata": {
        "colab": {
          "base_uri": "https://localhost:8080/"
        },
        "id": "E9qfC3hHILNM",
        "outputId": "a2fe0cce-5a21-463a-afc4-f1eafa88feea"
      },
      "execution_count": 84,
      "outputs": [
        {
          "output_type": "stream",
          "name": "stdout",
          "text": [
            "Epoch 1/10\n",
            "81/81 [==============================] - 2s 13ms/step - loss: 4.7150 - accuracy: 0.0402 - val_loss: 4.4520 - val_accuracy: 0.0425\n",
            "Epoch 2/10\n",
            "81/81 [==============================] - 1s 9ms/step - loss: 4.0965 - accuracy: 0.0923 - val_loss: 4.5446 - val_accuracy: 0.0618\n",
            "Epoch 3/10\n",
            "81/81 [==============================] - 1s 8ms/step - loss: 3.6513 - accuracy: 0.1541 - val_loss: 4.4229 - val_accuracy: 0.0795\n",
            "Epoch 4/10\n",
            "81/81 [==============================] - 1s 8ms/step - loss: 3.1299 - accuracy: 0.2318 - val_loss: 4.6049 - val_accuracy: 0.0819\n",
            "Epoch 5/10\n",
            "81/81 [==============================] - 1s 8ms/step - loss: 2.6372 - accuracy: 0.3193 - val_loss: 4.7727 - val_accuracy: 0.0772\n",
            "Epoch 6/10\n",
            "81/81 [==============================] - 1s 8ms/step - loss: 2.1667 - accuracy: 0.4209 - val_loss: 4.9840 - val_accuracy: 0.1035\n",
            "Epoch 7/10\n",
            "81/81 [==============================] - 1s 8ms/step - loss: 1.7607 - accuracy: 0.5206 - val_loss: 5.2979 - val_accuracy: 0.1004\n",
            "Epoch 8/10\n",
            "81/81 [==============================] - 1s 8ms/step - loss: 1.3739 - accuracy: 0.6206 - val_loss: 5.6426 - val_accuracy: 0.0988\n",
            "Epoch 9/10\n",
            "81/81 [==============================] - 1s 8ms/step - loss: 1.0846 - accuracy: 0.6958 - val_loss: 5.8857 - val_accuracy: 0.0934\n",
            "Epoch 10/10\n",
            "81/81 [==============================] - 1s 8ms/step - loss: 0.8083 - accuracy: 0.7748 - val_loss: 6.3899 - val_accuracy: 0.1012\n"
          ]
        }
      ]
    },
    {
      "cell_type": "code",
      "source": [
        "full_model.save_weights('autoencoder_classification.h5')"
      ],
      "metadata": {
        "id": "yAMg560cItCS"
      },
      "execution_count": 102,
      "outputs": []
    },
    {
      "cell_type": "code",
      "source": [
        "for layer in full_model.layers[0:19]:\n",
        "    layer.trainable = True"
      ],
      "metadata": {
        "id": "ZSwbOap8IvFF"
      },
      "execution_count": 103,
      "outputs": []
    },
    {
      "cell_type": "code",
      "source": [
        "full_model.compile(loss=keras.losses.categorical_crossentropy, optimizer=keras.optimizers.Adam(),metrics=['accuracy'])"
      ],
      "metadata": {
        "id": "8T8cGMxhIw2k"
      },
      "execution_count": 104,
      "outputs": []
    },
    {
      "cell_type": "code",
      "source": [
        "classify_train = full_model.fit(train_data, train_labels, batch_size=64,epochs=10,verbose=1,validation_data=(val_data, val_labels))"
      ],
      "metadata": {
        "colab": {
          "base_uri": "https://localhost:8080/"
        },
        "id": "U0Es1gn5Iyv6",
        "outputId": "3983de3b-f992-44b4-cb1e-172545ea1b50"
      },
      "execution_count": 105,
      "outputs": [
        {
          "output_type": "stream",
          "name": "stdout",
          "text": [
            "Epoch 1/10\n",
            "81/81 [==============================] - 7s 25ms/step - loss: 4.5389 - accuracy: 0.0228 - val_loss: 7.1783 - val_accuracy: 0.0178\n",
            "Epoch 2/10\n",
            "81/81 [==============================] - 1s 17ms/step - loss: 4.4415 - accuracy: 0.0230 - val_loss: 5.2444 - val_accuracy: 0.0185\n",
            "Epoch 3/10\n",
            "81/81 [==============================] - 1s 17ms/step - loss: 4.3841 - accuracy: 0.0369 - val_loss: 4.6366 - val_accuracy: 0.0286\n",
            "Epoch 4/10\n",
            "81/81 [==============================] - 2s 25ms/step - loss: 4.2738 - accuracy: 0.0417 - val_loss: 4.5554 - val_accuracy: 0.0440\n",
            "Epoch 5/10\n",
            "81/81 [==============================] - 2s 26ms/step - loss: 4.1972 - accuracy: 0.0541 - val_loss: 4.3834 - val_accuracy: 0.0324\n",
            "Epoch 6/10\n",
            "81/81 [==============================] - 1s 16ms/step - loss: 4.1408 - accuracy: 0.0595 - val_loss: 4.2503 - val_accuracy: 0.0494\n",
            "Epoch 7/10\n",
            "81/81 [==============================] - 1s 16ms/step - loss: 4.1033 - accuracy: 0.0686 - val_loss: 4.7898 - val_accuracy: 0.0440\n",
            "Epoch 8/10\n",
            "81/81 [==============================] - 1s 16ms/step - loss: 4.0420 - accuracy: 0.0744 - val_loss: 4.8737 - val_accuracy: 0.0471\n",
            "Epoch 9/10\n",
            "81/81 [==============================] - 1s 15ms/step - loss: 3.9831 - accuracy: 0.0788 - val_loss: 4.4451 - val_accuracy: 0.0548\n",
            "Epoch 10/10\n",
            "81/81 [==============================] - 1s 16ms/step - loss: 3.9268 - accuracy: 0.0838 - val_loss: 4.3745 - val_accuracy: 0.0386\n"
          ]
        }
      ]
    },
    {
      "cell_type": "code",
      "source": [],
      "metadata": {
        "id": "AD05LARkOmGQ"
      },
      "execution_count": null,
      "outputs": []
    },
    {
      "cell_type": "code",
      "source": [
        "full_model.save_weights('classification_complete.h5')"
      ],
      "metadata": {
        "id": "uu8gSNLFI6ni"
      },
      "execution_count": 106,
      "outputs": []
    },
    {
      "cell_type": "code",
      "source": [
        "accuracy = classify_train.history['accuracy']\n",
        "val_accuracy = classify_train.history['val_accuracy']\n",
        "loss = classify_train.history['loss']\n",
        "val_loss = classify_train.history['val_loss']\n",
        "epochs = range(len(accuracy))\n",
        "plt.plot(epochs, accuracy, 'bo', label='Training accuracy')\n",
        "plt.plot(epochs, val_accuracy, 'b', label='Validation accuracy')\n",
        "plt.title('Training and validation accuracy')\n",
        "plt.legend()\n",
        "plt.figure()\n",
        "plt.plot(epochs, loss, 'bo', label='Training loss')\n",
        "plt.plot(epochs, val_loss, 'b', label='Validation loss')\n",
        "plt.title('Training and validation loss')\n",
        "plt.legend()\n",
        "plt.show()"
      ],
      "metadata": {
        "colab": {
          "base_uri": "https://localhost:8080/",
          "height": 887
        },
        "id": "C7n239NdI8f2",
        "outputId": "4709439d-335b-4bb7-ef1d-1ad345734080"
      },
      "execution_count": 107,
      "outputs": [
        {
          "output_type": "display_data",
          "data": {
            "text/plain": [
              "<Figure size 640x480 with 1 Axes>"
            ],
            "image/png": "[encoded data removed]"
          },
          "metadata": {}
        },
        {
          "output_type": "display_data",
          "data": {
            "text/plain": [
              "<Figure size 640x480 with 1 Axes>"
            ],
            "image/png": "[encoded data removed]"
          },
          "metadata": {}
        }
      ]
    },
    {
      "cell_type": "code",
      "source": [
        "test_eval = full_model.evaluate(val_data, val_labels, verbose=0)"
      ],
      "metadata": {
        "id": "-90XSyOSJCZL"
      },
      "execution_count": 108,
      "outputs": []
    },
    {
      "cell_type": "code",
      "source": [
        "print('Test loss:', test_eval[0])\n",
        "print('Test accuracy:', test_eval[1])"
      ],
      "metadata": {
        "colab": {
          "base_uri": "https://localhost:8080/"
        },
        "id": "oUSk47iIJEc7",
        "outputId": "2418653b-e6b8-4367-ff4f-fa11ccede416"
      },
      "execution_count": 109,
      "outputs": [
        {
          "output_type": "stream",
          "name": "stdout",
          "text": [
            "Test loss: 4.374499320983887\n",
            "Test accuracy: 0.03861003741621971\n"
          ]
        }
      ]
    },
    {
      "cell_type": "code",
      "source": [
        "predicted_classes = full_model.predict(val_data)"
      ],
      "metadata": {
        "colab": {
          "base_uri": "https://localhost:8080/"
        },
        "id": "E_J0QhCGJG6Q",
        "outputId": "42238a61-73df-4fc7-eac9-0f627113af64"
      },
      "execution_count": 110,
      "outputs": [
        {
          "output_type": "stream",
          "name": "stdout",
          "text": [
            "41/41 [==============================] - 0s 3ms/step\n"
          ]
        }
      ]
    },
    {
      "cell_type": "code",
      "source": [
        "predicted_classes = np.argmax(np.round(predicted_classes),axis=1)"
      ],
      "metadata": {
        "id": "_cSjzwGEJJm4"
      },
      "execution_count": 111,
      "outputs": []
    },
    {
      "cell_type": "code",
      "source": [
        "predicted_classes, val_labels"
      ],
      "metadata": {
        "colab": {
          "base_uri": "https://localhost:8080/"
        },
        "id": "HgI80k8RJLL_",
        "outputId": "3ea919aa-51e4-400a-c0cb-c2d8e5cd644b"
      },
      "execution_count": 112,
      "outputs": [
        {
          "output_type": "execute_result",
          "data": {
            "text/plain": [
              "(array([0, 0, 0, ..., 0, 0, 0]),\n",
              " array([[0., 0., 0., ..., 0., 0., 0.],\n",
              "        [0., 0., 0., ..., 0., 0., 0.],\n",
              "        [0., 0., 0., ..., 0., 0., 0.],\n",
              "        ...,\n",
              "        [0., 0., 0., ..., 0., 0., 0.],\n",
              "        [0., 0., 0., ..., 0., 0., 0.],\n",
              "        [0., 0., 0., ..., 0., 0., 0.]], dtype=float32))"
            ]
          },
          "metadata": {},
          "execution_count": 112
        }
      ]
    },
    {
      "cell_type": "code",
      "source": [
        "correct = np.where(predicted_classes==val_labels)[0]\n",
        "print(\"Found %d correct labels\" % len(correct))\n",
        "for i, correct in enumerate(correct[:9]):\n",
        "    plt.subplot(3,3,i+1)\n",
        "    plt.imshow(val_data[correct].reshape(28,28), cmap='gray', interpolation='none')\n",
        "    plt.title(\"Predicted {}, Class {}\".format(predicted_classes[correct], val_labels[correct]))\n",
        "    plt.tight_layout()"
      ],
      "metadata": {
        "colab": {
          "base_uri": "https://localhost:8080/"
        },
        "id": "RJUrDUiKJM9U",
        "outputId": "0a5203d9-1f66-4b4e-fd8d-6a835f2d68b8"
      },
      "execution_count": 113,
      "outputs": [
        {
          "output_type": "stream",
          "name": "stdout",
          "text": [
            "Found 0 correct labels\n"
          ]
        },
        {
          "output_type": "stream",
          "name": "stderr",
          "text": [
            "<ipython-input-113-6c5b425a6ec2>:1: DeprecationWarning: elementwise comparison failed; this will raise an error in the future.\n",
            "  correct = np.where(predicted_classes==val_labels)[0]\n"
          ]
        }
      ]
    },
    {
      "cell_type": "code",
      "source": [
        "incorrect = np.where(predicted_classes!=val_labels)[0]\n",
        "print (\"Found %d incorrect labels\" % len(incorrect))\n",
        "for i, incorrect in enumerate(incorrect[:89]):\n",
        "    plt.subplot(3,3,i+1)\n",
        "    plt.imshow(val_data[incorrect].reshape(32,32,3), cmap='gray', interpolation='none')\n",
        "    plt.title(\"Predicted {}, Class {}\".format(predicted_classes[incorrect], val_labels[incorrect]))\n",
        "    plt.tight_layout()"
      ],
      "metadata": {
        "colab": {
          "base_uri": "https://localhost:8080/",
          "height": 292
        },
        "id": "4MN4WHQ9R74N",
        "outputId": "c4d129c0-7beb-4696-e456-b217fb8987bd"
      },
      "execution_count": 114,
      "outputs": [
        {
          "output_type": "stream",
          "name": "stdout",
          "text": [
            "Found 1 incorrect labels\n"
          ]
        },
        {
          "output_type": "stream",
          "name": "stderr",
          "text": [
            "<ipython-input-114-1c1d092c607d>:1: DeprecationWarning: elementwise comparison failed; this will raise an error in the future.\n",
            "  incorrect = np.where(predicted_classes!=val_labels)[0]\n"
          ]
        },
        {
          "output_type": "display_data",
          "data": {
            "text/plain": [
              "<Figure size 640x480 with 1 Axes>"
            ],
            "image/png": "[encoded data removed]"
          },
          "metadata": {}
        }
      ]
    },
    {
      "cell_type": "code",
      "source": [
        "from sklearn.metrics import classification_report\n",
        "target_names = [\"Class {}\".format(i) for i in range(num_classes)]\n",
        "print(classification_report(val_labels, predicted_classes, target_names=target_names))\n",
        "\n"
      ],
      "metadata": {
        "colab": {
          "base_uri": "https://localhost:8080/",
          "height": 368
        },
        "id": "65icBcsgC458",
        "outputId": "631db7d3-6cc2-4838-d70e-114d781c6784"
      },
      "execution_count": 116,
      "outputs": [
        {
          "output_type": "error",
          "ename": "ValueError",
          "evalue": "ignored",
          "traceback": [
            "\u001b[0;31m---------------------------------------------------------------------------\u001b[0m",
            "\u001b[0;31mValueError\u001b[0m                                Traceback (most recent call last)",
            "\u001b[0;32m<ipython-input-116-84a4f1392a7c>\u001b[0m in \u001b[0;36m<cell line: 3>\u001b[0;34m()\u001b[0m\n\u001b[1;32m      1\u001b[0m \u001b[0;32mfrom\u001b[0m \u001b[0msklearn\u001b[0m\u001b[0;34m.\u001b[0m\u001b[0mmetrics\u001b[0m \u001b[0;32mimport\u001b[0m \u001b[0mclassification_report\u001b[0m\u001b[0;34m\u001b[0m\u001b[0;34m\u001b[0m\u001b[0m\n\u001b[1;32m      2\u001b[0m \u001b[0mtarget_names\u001b[0m \u001b[0;34m=\u001b[0m \u001b[0;34m[\u001b[0m\u001b[0;34m\"Class {}\"\u001b[0m\u001b[0;34m.\u001b[0m\u001b[0mformat\u001b[0m\u001b[0;34m(\u001b[0m\u001b[0mi\u001b[0m\u001b[0;34m)\u001b[0m \u001b[0;32mfor\u001b[0m \u001b[0mi\u001b[0m \u001b[0;32min\u001b[0m \u001b[0mrange\u001b[0m\u001b[0;34m(\u001b[0m\u001b[0mnum_classes\u001b[0m\u001b[0;34m)\u001b[0m\u001b[0;34m]\u001b[0m\u001b[0;34m\u001b[0m\u001b[0;34m\u001b[0m\u001b[0m\n\u001b[0;32m----> 3\u001b[0;31m \u001b[0mprint\u001b[0m\u001b[0;34m(\u001b[0m\u001b[0mclassification_report\u001b[0m\u001b[0;34m(\u001b[0m\u001b[0mval_labels\u001b[0m\u001b[0;34m,\u001b[0m \u001b[0mpredicted_classes\u001b[0m\u001b[0;34m,\u001b[0m \u001b[0mtarget_names\u001b[0m\u001b[0;34m=\u001b[0m\u001b[0mtarget_names\u001b[0m\u001b[0;34m)\u001b[0m\u001b[0;34m)\u001b[0m\u001b[0;34m\u001b[0m\u001b[0;34m\u001b[0m\u001b[0m\n\u001b[0m\u001b[1;32m      4\u001b[0m \u001b[0;34m\u001b[0m\u001b[0m\n",
            "\u001b[0;32m/usr/local/lib/python3.10/dist-packages/sklearn/metrics/_classification.py\u001b[0m in \u001b[0;36mclassification_report\u001b[0;34m(y_true, y_pred, labels, target_names, sample_weight, digits, output_dict, zero_division)\u001b[0m\n\u001b[1;32m   2308\u001b[0m     \"\"\"\n\u001b[1;32m   2309\u001b[0m \u001b[0;34m\u001b[0m\u001b[0m\n\u001b[0;32m-> 2310\u001b[0;31m     \u001b[0my_type\u001b[0m\u001b[0;34m,\u001b[0m \u001b[0my_true\u001b[0m\u001b[0;34m,\u001b[0m \u001b[0my_pred\u001b[0m \u001b[0;34m=\u001b[0m \u001b[0m_check_targets\u001b[0m\u001b[0;34m(\u001b[0m\u001b[0my_true\u001b[0m\u001b[0;34m,\u001b[0m \u001b[0my_pred\u001b[0m\u001b[0;34m)\u001b[0m\u001b[0;34m\u001b[0m\u001b[0;34m\u001b[0m\u001b[0m\n\u001b[0m\u001b[1;32m   2311\u001b[0m \u001b[0;34m\u001b[0m\u001b[0m\n\u001b[1;32m   2312\u001b[0m     \u001b[0;32mif\u001b[0m \u001b[0mlabels\u001b[0m \u001b[0;32mis\u001b[0m \u001b[0;32mNone\u001b[0m\u001b[0;34m:\u001b[0m\u001b[0;34m\u001b[0m\u001b[0;34m\u001b[0m\u001b[0m\n",
            "\u001b[0;32m/usr/local/lib/python3.10/dist-packages/sklearn/metrics/_classification.py\u001b[0m in \u001b[0;36m_check_targets\u001b[0;34m(y_true, y_pred)\u001b[0m\n\u001b[1;32m     93\u001b[0m \u001b[0;34m\u001b[0m\u001b[0m\n\u001b[1;32m     94\u001b[0m     \u001b[0;32mif\u001b[0m \u001b[0mlen\u001b[0m\u001b[0;34m(\u001b[0m\u001b[0my_type\u001b[0m\u001b[0;34m)\u001b[0m \u001b[0;34m>\u001b[0m \u001b[0;36m1\u001b[0m\u001b[0;34m:\u001b[0m\u001b[0;34m\u001b[0m\u001b[0;34m\u001b[0m\u001b[0m\n\u001b[0;32m---> 95\u001b[0;31m         raise ValueError(\n\u001b[0m\u001b[1;32m     96\u001b[0m             \"Classification metrics can't handle a mix of {0} and {1} targets\".format(\n\u001b[1;32m     97\u001b[0m                 \u001b[0mtype_true\u001b[0m\u001b[0;34m,\u001b[0m \u001b[0mtype_pred\u001b[0m\u001b[0;34m\u001b[0m\u001b[0;34m\u001b[0m\u001b[0m\n",
            "\u001b[0;31mValueError\u001b[0m: Classification metrics can't handle a mix of multilabel-indicator and multiclass targets"
          ]
        }
      ]
    }
  ],
  "metadata": {
    "colab": {
      "provenance": [],
      "gpuType": "T4"
    },
    "kernelspec": {
      "display_name": "Python 3",
      "name": "python3"
    },
    "language_info": {
      "name": "python"
    },
    "accelerator": "GPU"
  },
  "nbformat": 4,
  "nbformat_minor": 0
}