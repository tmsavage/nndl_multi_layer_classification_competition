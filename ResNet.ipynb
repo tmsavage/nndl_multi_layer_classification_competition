{
  "nbformat": 4,
  "nbformat_minor": 0,
  "metadata": {
    "colab": {
      "provenance": []
    },
    "kernelspec": {
      "name": "python3",
      "display_name": "Python 3"
    },
    "language_info": {
      "name": "python"
    }
  },
  "cells": [
    {
      "cell_type": "code",
      "execution_count": 6,
      "metadata": {
        "id": "rfcxBje1K-5F"
      },
      "outputs": [],
      "source": [
        "import matplotlib.pyplot as plt\n",
        "import numpy as np\n",
        "import torch\n",
        "import torchvision\n",
        "import torchvision.transforms as transforms\n",
        "import torch.nn as nn\n",
        "import torch.nn.functional as F\n",
        "import torch.optim as optim\n",
        "\n",
        "device = \"cuda\" if torch.cuda.is_available() else \"cpu\"\n",
        "\n",
        "def imshow(img):\n",
        "    img = img / 2 + 0.5\n",
        "    npimg = img.numpy()\n",
        "    plt.imshow(np.transpose(npimg, (1, 2, 0)))\n",
        "    plt.show()"
      ]
    },
    {
      "cell_type": "code",
      "source": [
        "print(device)"
      ],
      "metadata": {
        "colab": {
          "base_uri": "https://localhost:8080/"
        },
        "id": "5Zb49V_nLFpJ",
        "outputId": "97ec61ba-22a6-41d8-9143-4a3b539e908a"
      },
      "execution_count": 7,
      "outputs": [
        {
          "output_type": "stream",
          "name": "stdout",
          "text": [
            "cpu\n"
          ]
        }
      ]
    },
    {
      "cell_type": "markdown",
      "source": [
        "## Load Image Dataset"
      ],
      "metadata": {
        "id": "OVvbRtx2R-FU"
      }
    },
    {
      "cell_type": "code",
      "source": [
        "transform = transforms.Compose(\n",
        "    [transforms.ToTensor(),\n",
        "     transforms.Normalize((0.5, 0.5, 0,5), (0.5, 0.5, 0.5))]\n",
        ")\n",
        "\n",
        "batch_size = 4 # can change\n",
        "\n",
        "# trainset =\n",
        "\n",
        "# trainloader =\n",
        "\n",
        "# testset =\n",
        "\n",
        "# testloader ="
      ],
      "metadata": {
        "id": "qDP17fdLSB_B"
      },
      "execution_count": null,
      "outputs": []
    },
    {
      "cell_type": "markdown",
      "source": [
        "## ResNet"
      ],
      "metadata": {
        "id": "GQzFqVhCR7LY"
      }
    },
    {
      "cell_type": "code",
      "source": [
        "class ResNetBlock(nn.Module):\n",
        "  def __init__(self, in_channels, out_channels, stride=1):\n",
        "    super().__init__()\n",
        "\n",
        "    self.conv1 = nn.Conv2d(in_channels, out_channels, kernel_size = 3, stride=stride, padding=1)\n",
        "    self.conv2 = nn.Conv2d(out_channels, out_channels, kernel_size=3, stride=1, padding=1)\n",
        "    self.relu = nn.ReLU()\n",
        "\n",
        "    self.skip_connection = nn.Identity()\n",
        "    if stride != 1 or in_channels != out_channels:\n",
        "      self.skip_connection = nn.Conv2d(in_channels, out_channels, kernel_size=1, stride=stride)\n",
        "\n",
        "\n",
        "  def forward(self, x):\n",
        "    identity_x = self.skip_connection(x)\n",
        "\n",
        "    x = self.conv1(x)\n",
        "    x = self.relu(x)\n",
        "    x = self.conv2(x)\n",
        "\n",
        "    assert x.shape == identity_x.shape\n",
        "    x = x + identity_x\n",
        "    return x"
      ],
      "metadata": {
        "id": "5CYIXkYSSEMe"
      },
      "execution_count": 13,
      "outputs": []
    },
    {
      "cell_type": "code",
      "source": [
        "class ResNet(nn.Module):\n",
        "  def __init__(self):\n",
        "    super().__init__()\n",
        "    self.conv1 = nn.Conv2d(3, 64, 5)\n",
        "\n",
        "    self.maxpool2d = nn.MaxPool2d(2, 2)\n",
        "\n",
        "    self.resnetblock1 = ResNetBlock(64, 128)\n",
        "    self.resnetblock2 = ResNetBlock(128, 128, 2)\n",
        "\n",
        "    self.linear1 = nn.Linear(6272, 3236)\n",
        "    self.linear2 = nn.Linear(3136, 1568)\n",
        "    self.linear3 = nn.Linear(1568, 10)\n",
        "\n",
        "    self.relu = nn.ReLU()\n",
        "\n",
        "  def forward(self, x):\n",
        "\n",
        "    x = self.conv1(x)\n",
        "    x = self.relu(x)\n",
        "    x = self.maxpool2d(x)\n",
        "    x = self.resnetblock1(x)\n",
        "    x = self.resnetblock2(x)\n",
        "    x = torch.flatten(x, 1)\n",
        "    x = self.linear1(x)\n",
        "    x = self.linear2(x)\n",
        "    x = self.linear3(x)\n",
        "\n",
        "    return x\n",
        "\n",
        "res_net = ResNet()"
      ],
      "metadata": {
        "id": "WVHkyGpZSPkA"
      },
      "execution_count": 15,
      "outputs": []
    },
    {
      "cell_type": "code",
      "source": [
        "criterion = nn.CrossEntropyLoss()\n",
        "optimizer = optim.Adam(res_net.parameters(), lr=0.0001)"
      ],
      "metadata": {
        "id": "HHuMhsh2ScBD"
      },
      "execution_count": 16,
      "outputs": []
    },
    {
      "cell_type": "code",
      "source": [
        "def train_network(net, n_epochs=2):\n",
        "  net.to(device)\n",
        "\n",
        "  for epoch in range(n_epochs):\n",
        "    for i, data in enumerate(trainloader, 0):\n",
        ""
      ],
      "metadata": {
        "id": "-ACdmYtEV6R1"
      },
      "execution_count": null,
      "outputs": []
    },
    {
      "cell_type": "code",
      "source": [
        "# Train ResNet model\n",
        "res_net = train_network(res_net, n_epochs=5)"
      ],
      "metadata": {
        "id": "NEXXzP-bVi1j"
      },
      "execution_count": null,
      "outputs": []
    }
  ]
}