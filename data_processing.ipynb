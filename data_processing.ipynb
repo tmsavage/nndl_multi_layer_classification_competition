{
 "cells": [
  {
   "cell_type": "code",
   "execution_count": 1,
   "id": "8c11907f",
   "metadata": {},
   "outputs": [],
   "source": [
    "import pandas as pd\n",
    "import os\n",
    "from PIL import Image\n",
    "import numpy as np\n"
   ]
  },
  {
   "cell_type": "markdown",
   "id": "8eeb8e4a",
   "metadata": {},
   "source": [
    "### Mappings"
   ]
  },
  {
   "cell_type": "code",
   "execution_count": 2,
   "id": "d5852338",
   "metadata": {},
   "outputs": [],
   "source": [
    "file_path = os.path.abspath('data_processing.ipynb')\n",
    "\n",
    "# Extract the directory part from the absolute path\n",
    "directory = os.path.dirname(file_path)\n"
   ]
  },
  {
   "cell_type": "code",
   "execution_count": 22,
   "id": "0a298a56",
   "metadata": {},
   "outputs": [
    {
     "name": "stdout",
     "output_type": "stream",
     "text": [
      "Num sub-class mappings:  90\n",
      "Num super-class mappings:  3\n",
      "Num training data mappings:  6472\n"
     ]
    }
   ],
   "source": [
    "data_dir = \"../data/Released_Data/\"\n",
    "\n",
    "sub_classes_mapping_df = pd.read_csv(data_dir+'sub_classes_mapping.csv')\n",
    "sub_classes_mapping_df = sub_classes_mapping_df.rename(columns={\"index\": \"subclass_index\", \"class\": \"sub_class\"})\n",
    "\n",
    "super_classes_mapping_df = pd.read_csv(data_dir+'super_classes_mapping.csv')\n",
    "super_classes_mapping_df = super_classes_mapping_df.rename(columns={\"index\": \"superclass_index\", \"class\": \"super_class\"})\n",
    "\n",
    "train_data_mapping_df = pd.read_csv(data_dir+'train_data.csv')\n",
    "\n",
    "print(\"Num sub-class mappings: \", len(sub_classes_mapping_df))\n",
    "print(\"Num super-class mappings: \", len(super_classes_mapping_df))\n",
    "print(\"Num training data mappings: \", len(train_data_mapping_df))"
   ]
  },
  {
   "cell_type": "code",
   "execution_count": 23,
   "id": "3be813c9",
   "metadata": {},
   "outputs": [
    {
     "data": {
      "text/html": [
       "<div>\n",
       "<style scoped>\n",
       "    .dataframe tbody tr th:only-of-type {\n",
       "        vertical-align: middle;\n",
       "    }\n",
       "\n",
       "    .dataframe tbody tr th {\n",
       "        vertical-align: top;\n",
       "    }\n",
       "\n",
       "    .dataframe thead th {\n",
       "        text-align: right;\n",
       "    }\n",
       "</style>\n",
       "<table border=\"1\" class=\"dataframe\">\n",
       "  <thead>\n",
       "    <tr style=\"text-align: right;\">\n",
       "      <th></th>\n",
       "      <th>subclass_index</th>\n",
       "      <th>sub_class</th>\n",
       "    </tr>\n",
       "  </thead>\n",
       "  <tbody>\n",
       "    <tr>\n",
       "      <th>0</th>\n",
       "      <td>0</td>\n",
       "      <td>Scotch terrier, Scottish terrier, Scottie</td>\n",
       "    </tr>\n",
       "    <tr>\n",
       "      <th>1</th>\n",
       "      <td>1</td>\n",
       "      <td>African chameleon, Chamaeleo chamaeleon</td>\n",
       "    </tr>\n",
       "    <tr>\n",
       "      <th>2</th>\n",
       "      <td>2</td>\n",
       "      <td>standard schnauzer</td>\n",
       "    </tr>\n",
       "    <tr>\n",
       "      <th>3</th>\n",
       "      <td>3</td>\n",
       "      <td>terrapin</td>\n",
       "    </tr>\n",
       "    <tr>\n",
       "      <th>4</th>\n",
       "      <td>4</td>\n",
       "      <td>great grey owl, great gray owl, Strix nebulosa</td>\n",
       "    </tr>\n",
       "  </tbody>\n",
       "</table>\n",
       "</div>"
      ],
      "text/plain": [
       "   subclass_index                                       sub_class\n",
       "0               0       Scotch terrier, Scottish terrier, Scottie\n",
       "1               1         African chameleon, Chamaeleo chamaeleon\n",
       "2               2                              standard schnauzer\n",
       "3               3                                        terrapin\n",
       "4               4  great grey owl, great gray owl, Strix nebulosa"
      ]
     },
     "execution_count": 23,
     "metadata": {},
     "output_type": "execute_result"
    }
   ],
   "source": [
    "sub_classes_mapping_df.head()"
   ]
  },
  {
   "cell_type": "code",
   "execution_count": 24,
   "id": "a9d8d11b",
   "metadata": {},
   "outputs": [
    {
     "data": {
      "text/html": [
       "<div>\n",
       "<style scoped>\n",
       "    .dataframe tbody tr th:only-of-type {\n",
       "        vertical-align: middle;\n",
       "    }\n",
       "\n",
       "    .dataframe tbody tr th {\n",
       "        vertical-align: top;\n",
       "    }\n",
       "\n",
       "    .dataframe thead th {\n",
       "        text-align: right;\n",
       "    }\n",
       "</style>\n",
       "<table border=\"1\" class=\"dataframe\">\n",
       "  <thead>\n",
       "    <tr style=\"text-align: right;\">\n",
       "      <th></th>\n",
       "      <th>superclass_index</th>\n",
       "      <th>super_class</th>\n",
       "    </tr>\n",
       "  </thead>\n",
       "  <tbody>\n",
       "    <tr>\n",
       "      <th>0</th>\n",
       "      <td>0</td>\n",
       "      <td>bird</td>\n",
       "    </tr>\n",
       "    <tr>\n",
       "      <th>1</th>\n",
       "      <td>1</td>\n",
       "      <td>dog</td>\n",
       "    </tr>\n",
       "    <tr>\n",
       "      <th>2</th>\n",
       "      <td>2</td>\n",
       "      <td>reptile</td>\n",
       "    </tr>\n",
       "  </tbody>\n",
       "</table>\n",
       "</div>"
      ],
      "text/plain": [
       "   superclass_index super_class\n",
       "0                 0        bird\n",
       "1                 1         dog\n",
       "2                 2     reptile"
      ]
     },
     "execution_count": 24,
     "metadata": {},
     "output_type": "execute_result"
    }
   ],
   "source": [
    "super_classes_mapping_df.head()"
   ]
  },
  {
   "cell_type": "code",
   "execution_count": 21,
   "id": "c9f996a7",
   "metadata": {},
   "outputs": [
    {
     "data": {
      "text/html": [
       "<div>\n",
       "<style scoped>\n",
       "    .dataframe tbody tr th:only-of-type {\n",
       "        vertical-align: middle;\n",
       "    }\n",
       "\n",
       "    .dataframe tbody tr th {\n",
       "        vertical-align: top;\n",
       "    }\n",
       "\n",
       "    .dataframe thead th {\n",
       "        text-align: right;\n",
       "    }\n",
       "</style>\n",
       "<table border=\"1\" class=\"dataframe\">\n",
       "  <thead>\n",
       "    <tr style=\"text-align: right;\">\n",
       "      <th></th>\n",
       "      <th>image</th>\n",
       "      <th>superclass_index</th>\n",
       "      <th>subclass_index</th>\n",
       "    </tr>\n",
       "  </thead>\n",
       "  <tbody>\n",
       "    <tr>\n",
       "      <th>0</th>\n",
       "      <td>0.jpg</td>\n",
       "      <td>1</td>\n",
       "      <td>63</td>\n",
       "    </tr>\n",
       "    <tr>\n",
       "      <th>1</th>\n",
       "      <td>1.jpg</td>\n",
       "      <td>0</td>\n",
       "      <td>24</td>\n",
       "    </tr>\n",
       "    <tr>\n",
       "      <th>2</th>\n",
       "      <td>2.jpg</td>\n",
       "      <td>0</td>\n",
       "      <td>74</td>\n",
       "    </tr>\n",
       "    <tr>\n",
       "      <th>3</th>\n",
       "      <td>3.jpg</td>\n",
       "      <td>2</td>\n",
       "      <td>72</td>\n",
       "    </tr>\n",
       "    <tr>\n",
       "      <th>4</th>\n",
       "      <td>4.jpg</td>\n",
       "      <td>2</td>\n",
       "      <td>43</td>\n",
       "    </tr>\n",
       "  </tbody>\n",
       "</table>\n",
       "</div>"
      ],
      "text/plain": [
       "   image  superclass_index  subclass_index\n",
       "0  0.jpg                 1              63\n",
       "1  1.jpg                 0              24\n",
       "2  2.jpg                 0              74\n",
       "3  3.jpg                 2              72\n",
       "4  4.jpg                 2              43"
      ]
     },
     "execution_count": 21,
     "metadata": {},
     "output_type": "execute_result"
    }
   ],
   "source": [
    "train_data_mapping_df.head()"
   ]
  },
  {
   "cell_type": "markdown",
   "id": "b537009f",
   "metadata": {},
   "source": [
    "### Shuffled Splits"
   ]
  },
  {
   "cell_type": "code",
   "execution_count": 11,
   "id": "2b335631",
   "metadata": {},
   "outputs": [],
   "source": [
    "# Directories containing the images\n",
    "train_dir = data_dir + \"train_shuffle\"\n",
    "test_dir = data_dir + \"test_shuffle\"\n",
    "\n",
    "# Desired size for CNN input\n",
    "input_size = (8, 8)  # Adjust as needed\n",
    "\n",
    "# Function to preprocess the image\n",
    "def preprocess_image(image_path):\n",
    "    # Read the image\n",
    "    image = Image.open(image_path)\n",
    "\n",
    "    if image.size != (8, 8):\n",
    "        raise ValueError(\"Image is not 8x8 pixels in size.\")\n",
    "        \n",
    "     # Convert to a NumPy array and normalize\n",
    "    image_array = np.array(image).astype('float32') / 255.0\n",
    "\n",
    "    return image_array\n",
    "\n",
    "# Function to create a DataFrame from a directory of images\n",
    "def create_dataframe_from_images(directory):\n",
    "    # List all files in the directory\n",
    "    filenames = [f for f in os.listdir(directory) if os.path.isfile(os.path.join(directory, f))]\n",
    "\n",
    "    # Preprocess images and store in a list\n",
    "    images = [preprocess_image(os.path.join(directory, f)) for f in filenames]\n",
    "\n",
    "    # Create a DataFrame\n",
    "    df = pd.DataFrame({'image': filenames, 'image_data': images})\n",
    "    return df\n",
    "\n",
    "# Create DataFrames for training and testing images\n",
    "train_df = create_dataframe_from_images(train_dir)\n",
    "test_df = create_dataframe_from_images(test_dir)"
   ]
  },
  {
   "cell_type": "code",
   "execution_count": 12,
   "id": "edf705ed",
   "metadata": {},
   "outputs": [
    {
     "data": {
      "text/html": [
       "<div>\n",
       "<style scoped>\n",
       "    .dataframe tbody tr th:only-of-type {\n",
       "        vertical-align: middle;\n",
       "    }\n",
       "\n",
       "    .dataframe tbody tr th {\n",
       "        vertical-align: top;\n",
       "    }\n",
       "\n",
       "    .dataframe thead th {\n",
       "        text-align: right;\n",
       "    }\n",
       "</style>\n",
       "<table border=\"1\" class=\"dataframe\">\n",
       "  <thead>\n",
       "    <tr style=\"text-align: right;\">\n",
       "      <th></th>\n",
       "      <th>image</th>\n",
       "      <th>image_data</th>\n",
       "    </tr>\n",
       "  </thead>\n",
       "  <tbody>\n",
       "    <tr>\n",
       "      <th>0</th>\n",
       "      <td>63.jpg</td>\n",
       "      <td>[[[0.4862745, 0.42745098, 0.27450982], [0.4588...</td>\n",
       "    </tr>\n",
       "    <tr>\n",
       "      <th>1</th>\n",
       "      <td>6400.jpg</td>\n",
       "      <td>[[[0.50980395, 0.50980395, 0.5411765], [0.5450...</td>\n",
       "    </tr>\n",
       "    <tr>\n",
       "      <th>2</th>\n",
       "      <td>823.jpg</td>\n",
       "      <td>[[[0.4392157, 0.41960785, 0.34117648], [0.5019...</td>\n",
       "    </tr>\n",
       "    <tr>\n",
       "      <th>3</th>\n",
       "      <td>4217.jpg</td>\n",
       "      <td>[[[0.5411765, 0.5882353, 0.5411765], [0.231372...</td>\n",
       "    </tr>\n",
       "    <tr>\n",
       "      <th>4</th>\n",
       "      <td>3578.jpg</td>\n",
       "      <td>[[[0.45882353, 0.54509807, 0.7372549], [0.4196...</td>\n",
       "    </tr>\n",
       "  </tbody>\n",
       "</table>\n",
       "</div>"
      ],
      "text/plain": [
       "      image                                         image_data\n",
       "0    63.jpg  [[[0.4862745, 0.42745098, 0.27450982], [0.4588...\n",
       "1  6400.jpg  [[[0.50980395, 0.50980395, 0.5411765], [0.5450...\n",
       "2   823.jpg  [[[0.4392157, 0.41960785, 0.34117648], [0.5019...\n",
       "3  4217.jpg  [[[0.5411765, 0.5882353, 0.5411765], [0.231372...\n",
       "4  3578.jpg  [[[0.45882353, 0.54509807, 0.7372549], [0.4196..."
      ]
     },
     "execution_count": 12,
     "metadata": {},
     "output_type": "execute_result"
    }
   ],
   "source": [
    "train_df.head()"
   ]
  },
  {
   "cell_type": "code",
   "execution_count": 33,
   "id": "6314ff71",
   "metadata": {},
   "outputs": [],
   "source": [
    "full_train_df = pd.merge(train_df, train_data_mapping_df, on='image', how='inner')\n",
    "full_train_df = pd.merge(full_train_df, super_classes_mapping_df, on='superclass_index', how='inner')\n",
    "full_train_df = pd.merge(full_train_df, sub_classes_mapping_df, on='subclass_index', how='inner')"
   ]
  },
  {
   "cell_type": "code",
   "execution_count": 36,
   "id": "d9009660",
   "metadata": {},
   "outputs": [
    {
     "data": {
      "text/html": [
       "<div>\n",
       "<style scoped>\n",
       "    .dataframe tbody tr th:only-of-type {\n",
       "        vertical-align: middle;\n",
       "    }\n",
       "\n",
       "    .dataframe tbody tr th {\n",
       "        vertical-align: top;\n",
       "    }\n",
       "\n",
       "    .dataframe thead th {\n",
       "        text-align: right;\n",
       "    }\n",
       "</style>\n",
       "<table border=\"1\" class=\"dataframe\">\n",
       "  <thead>\n",
       "    <tr style=\"text-align: right;\">\n",
       "      <th></th>\n",
       "      <th>image</th>\n",
       "      <th>image_data</th>\n",
       "      <th>superclass_index</th>\n",
       "      <th>subclass_index</th>\n",
       "      <th>super_class</th>\n",
       "      <th>sub_class</th>\n",
       "    </tr>\n",
       "  </thead>\n",
       "  <tbody>\n",
       "    <tr>\n",
       "      <th>6467</th>\n",
       "      <td>2052.jpg</td>\n",
       "      <td>[[[0.26666668, 0.30980393, 0.14509805], [0.313...</td>\n",
       "      <td>1</td>\n",
       "      <td>32</td>\n",
       "      <td>dog</td>\n",
       "      <td>giant schnauzer</td>\n",
       "    </tr>\n",
       "    <tr>\n",
       "      <th>6468</th>\n",
       "      <td>5113.jpg</td>\n",
       "      <td>[[[0.49803922, 0.43137255, 0.2627451], [0.5647...</td>\n",
       "      <td>1</td>\n",
       "      <td>32</td>\n",
       "      <td>dog</td>\n",
       "      <td>giant schnauzer</td>\n",
       "    </tr>\n",
       "    <tr>\n",
       "      <th>6469</th>\n",
       "      <td>5529.jpg</td>\n",
       "      <td>[[[0.1882353, 0.22745098, 0.23137255], [0.3686...</td>\n",
       "      <td>1</td>\n",
       "      <td>32</td>\n",
       "      <td>dog</td>\n",
       "      <td>giant schnauzer</td>\n",
       "    </tr>\n",
       "    <tr>\n",
       "      <th>6470</th>\n",
       "      <td>2509.jpg</td>\n",
       "      <td>[[[0.2509804, 0.2509804, 0.14117648], [0.31764...</td>\n",
       "      <td>1</td>\n",
       "      <td>32</td>\n",
       "      <td>dog</td>\n",
       "      <td>giant schnauzer</td>\n",
       "    </tr>\n",
       "    <tr>\n",
       "      <th>6471</th>\n",
       "      <td>635.jpg</td>\n",
       "      <td>[[[0.7529412, 0.69411767, 0.6666667], [0.78823...</td>\n",
       "      <td>1</td>\n",
       "      <td>32</td>\n",
       "      <td>dog</td>\n",
       "      <td>giant schnauzer</td>\n",
       "    </tr>\n",
       "  </tbody>\n",
       "</table>\n",
       "</div>"
      ],
      "text/plain": [
       "         image                                         image_data  \\\n",
       "6467  2052.jpg  [[[0.26666668, 0.30980393, 0.14509805], [0.313...   \n",
       "6468  5113.jpg  [[[0.49803922, 0.43137255, 0.2627451], [0.5647...   \n",
       "6469  5529.jpg  [[[0.1882353, 0.22745098, 0.23137255], [0.3686...   \n",
       "6470  2509.jpg  [[[0.2509804, 0.2509804, 0.14117648], [0.31764...   \n",
       "6471   635.jpg  [[[0.7529412, 0.69411767, 0.6666667], [0.78823...   \n",
       "\n",
       "      superclass_index  subclass_index super_class        sub_class  \n",
       "6467                 1              32         dog  giant schnauzer  \n",
       "6468                 1              32         dog  giant schnauzer  \n",
       "6469                 1              32         dog  giant schnauzer  \n",
       "6470                 1              32         dog  giant schnauzer  \n",
       "6471                 1              32         dog  giant schnauzer  "
      ]
     },
     "execution_count": 36,
     "metadata": {},
     "output_type": "execute_result"
    }
   ],
   "source": [
    "full_train_df.tail()"
   ]
  },
  {
   "cell_type": "code",
   "execution_count": 37,
   "id": "00b25061",
   "metadata": {},
   "outputs": [
    {
     "name": "stdout",
     "output_type": "stream",
     "text": [
      "6472\n"
     ]
    }
   ],
   "source": [
    "print(len(full_train_df))"
   ]
  },
  {
   "cell_type": "code",
   "execution_count": null,
   "id": "b2f2abd0",
   "metadata": {},
   "outputs": [],
   "source": []
  }
 ],
 "metadata": {
  "kernelspec": {
   "display_name": "Python 3 (ipykernel)",
   "language": "python",
   "name": "python3"
  },
  "language_info": {
   "codemirror_mode": {
    "name": "ipython",
    "version": 3
   },
   "file_extension": ".py",
   "mimetype": "text/x-python",
   "name": "python",
   "nbconvert_exporter": "python",
   "pygments_lexer": "ipython3",
   "version": "3.8.0"
  }
 },
 "nbformat": 4,
 "nbformat_minor": 5
}
